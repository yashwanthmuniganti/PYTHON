{
 "cells": [
  {
   "cell_type": "code",
   "execution_count": 1,
   "id": "38352440",
   "metadata": {},
   "outputs": [],
   "source": [
    "a=23"
   ]
  },
  {
   "cell_type": "code",
   "execution_count": 2,
   "id": "e1087516",
   "metadata": {},
   "outputs": [
    {
     "data": {
      "text/plain": [
       "int"
      ]
     },
     "execution_count": 2,
     "metadata": {},
     "output_type": "execute_result"
    }
   ],
   "source": [
    "type(a)"
   ]
  },
  {
   "cell_type": "code",
   "execution_count": 3,
   "id": "9408de9b",
   "metadata": {},
   "outputs": [
    {
     "name": "stdout",
     "output_type": "stream",
     "text": [
      "1243\n"
     ]
    }
   ],
   "source": [
    "a=int(input(12))"
   ]
  },
  {
   "cell_type": "code",
   "execution_count": 4,
   "id": "c4416a2e",
   "metadata": {},
   "outputs": [],
   "source": [
    "a=('12')"
   ]
  },
  {
   "cell_type": "code",
   "execution_count": 6,
   "id": "f6bb1049",
   "metadata": {},
   "outputs": [
    {
     "data": {
      "text/plain": [
       "str"
      ]
     },
     "execution_count": 6,
     "metadata": {},
     "output_type": "execute_result"
    }
   ],
   "source": [
    "type(a)"
   ]
  },
  {
   "cell_type": "code",
   "execution_count": 7,
   "id": "98c12e51",
   "metadata": {},
   "outputs": [],
   "source": [
    "y=23.43"
   ]
  },
  {
   "cell_type": "code",
   "execution_count": 9,
   "id": "2d9260c6",
   "metadata": {},
   "outputs": [
    {
     "data": {
      "text/plain": [
       "float"
      ]
     },
     "execution_count": 9,
     "metadata": {},
     "output_type": "execute_result"
    }
   ],
   "source": [
    "type(y)"
   ]
  },
  {
   "cell_type": "code",
   "execution_count": 10,
   "id": "ae65043e",
   "metadata": {},
   "outputs": [],
   "source": [
    "a=True"
   ]
  },
  {
   "cell_type": "code",
   "execution_count": 11,
   "id": "cf2ebb90",
   "metadata": {},
   "outputs": [
    {
     "data": {
      "text/plain": [
       "bool"
      ]
     },
     "execution_count": 11,
     "metadata": {},
     "output_type": "execute_result"
    }
   ],
   "source": [
    "type(a)"
   ]
  },
  {
   "cell_type": "markdown",
   "id": "75c2b23a",
   "metadata": {},
   "source": [
    "a=1+2j"
   ]
  },
  {
   "cell_type": "code",
   "execution_count": 12,
   "id": "00049907",
   "metadata": {},
   "outputs": [],
   "source": [
    "a=1+2j"
   ]
  },
  {
   "cell_type": "code",
   "execution_count": 13,
   "id": "5d7bf777",
   "metadata": {},
   "outputs": [
    {
     "data": {
      "text/plain": [
       "complex"
      ]
     },
     "execution_count": 13,
     "metadata": {},
     "output_type": "execute_result"
    }
   ],
   "source": [
    "type(a)"
   ]
  },
  {
   "cell_type": "code",
   "execution_count": 2,
   "id": "979952c2",
   "metadata": {},
   "outputs": [
    {
     "data": {
      "text/plain": [
       "45"
      ]
     },
     "execution_count": 2,
     "metadata": {},
     "output_type": "execute_result"
    }
   ],
   "source": [
    "abs(-45)"
   ]
  },
  {
   "cell_type": "code",
   "execution_count": 4,
   "id": "50a59d1c",
   "metadata": {},
   "outputs": [
    {
     "data": {
      "text/plain": [
       "6.708203932499369"
      ]
     },
     "execution_count": 4,
     "metadata": {},
     "output_type": "execute_result"
    }
   ],
   "source": [
    "abs(3+6j)"
   ]
  },
  {
   "cell_type": "code",
   "execution_count": 6,
   "id": "682206d9",
   "metadata": {},
   "outputs": [
    {
     "data": {
      "text/plain": [
       "5.0"
      ]
     },
     "execution_count": 6,
     "metadata": {},
     "output_type": "execute_result"
    }
   ],
   "source": [
    "abs(3+4j)"
   ]
  },
  {
   "cell_type": "markdown",
   "id": "9e83637a",
   "metadata": {},
   "source": [
    "a=-10 "
   ]
  },
  {
   "cell_type": "code",
   "execution_count": 8,
   "id": "fda42131",
   "metadata": {},
   "outputs": [],
   "source": [
    "a=-10"
   ]
  },
  {
   "cell_type": "code",
   "execution_count": 9,
   "id": "bec025ff",
   "metadata": {},
   "outputs": [
    {
     "data": {
      "text/plain": [
       "10"
      ]
     },
     "execution_count": 9,
     "metadata": {},
     "output_type": "execute_result"
    }
   ],
   "source": [
    "abs(a)"
   ]
  },
  {
   "cell_type": "code",
   "execution_count": 10,
   "id": "1dca4a21",
   "metadata": {},
   "outputs": [],
   "source": [
    "import math"
   ]
  },
  {
   "cell_type": "code",
   "execution_count": 14,
   "id": "120bd052",
   "metadata": {},
   "outputs": [
    {
     "data": {
      "text/plain": [
       "35"
      ]
     },
     "execution_count": 14,
     "metadata": {},
     "output_type": "execute_result"
    }
   ],
   "source": [
    "math.ceil(34.7)"
   ]
  },
  {
   "cell_type": "code",
   "execution_count": 17,
   "id": "d9e83774",
   "metadata": {},
   "outputs": [
    {
     "data": {
      "text/plain": [
       "30"
      ]
     },
     "execution_count": 17,
     "metadata": {},
     "output_type": "execute_result"
    }
   ],
   "source": [
    "math.ceil(29.5)"
   ]
  },
  {
   "cell_type": "code",
   "execution_count": 18,
   "id": "08452d35",
   "metadata": {},
   "outputs": [
    {
     "data": {
      "text/plain": [
       "9"
      ]
     },
     "execution_count": 18,
     "metadata": {},
     "output_type": "execute_result"
    }
   ],
   "source": [
    "math.ceil(9.000)"
   ]
  },
  {
   "cell_type": "code",
   "execution_count": 19,
   "id": "895a5b62",
   "metadata": {},
   "outputs": [
    {
     "data": {
      "text/plain": [
       "-45"
      ]
     },
     "execution_count": 19,
     "metadata": {},
     "output_type": "execute_result"
    }
   ],
   "source": [
    "math.ceil(-45.7)"
   ]
  },
  {
   "cell_type": "code",
   "execution_count": 20,
   "id": "887407c7",
   "metadata": {},
   "outputs": [
    {
     "data": {
      "text/plain": [
       "23"
      ]
     },
     "execution_count": 20,
     "metadata": {},
     "output_type": "execute_result"
    }
   ],
   "source": [
    "math.floor(23.4)"
   ]
  },
  {
   "cell_type": "markdown",
   "id": "479f9752",
   "metadata": {},
   "source": []
  },
  {
   "cell_type": "code",
   "execution_count": 1,
   "id": "9771147f",
   "metadata": {},
   "outputs": [
    {
     "ename": "SyntaxError",
     "evalue": "unexpected EOF while parsing (289056142.py, line 2)",
     "output_type": "error",
     "traceback": [
      "\u001b[1;36m  Input \u001b[1;32mIn [1]\u001b[1;36m\u001b[0m\n\u001b[1;33m    \\\u001b[0m\n\u001b[1;37m     ^\u001b[0m\n\u001b[1;31mSyntaxError\u001b[0m\u001b[1;31m:\u001b[0m unexpected EOF while parsing\n"
     ]
    }
   ],
   "source": [
    "math.floor(34.3)\n",
    "\\"
   ]
  },
  {
   "cell_type": "markdown",
   "id": "160753d4",
   "metadata": {},
   "source": [
    "max(-2,10,4)"
   ]
  },
  {
   "cell_type": "code",
   "execution_count": 2,
   "id": "9aa8d696",
   "metadata": {},
   "outputs": [
    {
     "data": {
      "text/plain": [
       "5"
      ]
     },
     "execution_count": 2,
     "metadata": {},
     "output_type": "execute_result"
    }
   ],
   "source": [
    "max(-2,4,5)"
   ]
  },
  {
   "cell_type": "code",
   "execution_count": 3,
   "id": "1bd7647f",
   "metadata": {},
   "outputs": [
    {
     "data": {
      "text/plain": [
       "2"
      ]
     },
     "execution_count": 3,
     "metadata": {},
     "output_type": "execute_result"
    }
   ],
   "source": [
    "min(2,4,5)"
   ]
  },
  {
   "cell_type": "code",
   "execution_count": 6,
   "id": "1f1ad057",
   "metadata": {},
   "outputs": [],
   "source": [
    "m='my name is yashwanth'"
   ]
  },
  {
   "cell_type": "code",
   "execution_count": 7,
   "id": "390d0b2d",
   "metadata": {},
   "outputs": [
    {
     "data": {
      "text/plain": [
       "'my name is yashwanth'"
      ]
     },
     "execution_count": 7,
     "metadata": {},
     "output_type": "execute_result"
    }
   ],
   "source": [
    "m"
   ]
  },
  {
   "cell_type": "code",
   "execution_count": 8,
   "id": "23655d01",
   "metadata": {},
   "outputs": [
    {
     "data": {
      "text/plain": [
       "str"
      ]
     },
     "execution_count": 8,
     "metadata": {},
     "output_type": "execute_result"
    }
   ],
   "source": [
    "type(m)"
   ]
  },
  {
   "cell_type": "code",
   "execution_count": 9,
   "id": "a7eb3451",
   "metadata": {},
   "outputs": [],
   "source": [
    "y='2849392jjdmdmd'"
   ]
  },
  {
   "cell_type": "code",
   "execution_count": 10,
   "id": "7113b58e",
   "metadata": {},
   "outputs": [
    {
     "data": {
      "text/plain": [
       "'2849392jjdmdmd'"
      ]
     },
     "execution_count": 10,
     "metadata": {},
     "output_type": "execute_result"
    }
   ],
   "source": [
    "y"
   ]
  },
  {
   "cell_type": "code",
   "execution_count": 12,
   "id": "98c91869",
   "metadata": {},
   "outputs": [
    {
     "name": "stdout",
     "output_type": "stream",
     "text": [
      "chinna nagaram12\n"
     ]
    }
   ],
   "source": [
    "c=input('chinna nagaram')"
   ]
  },
  {
   "cell_type": "code",
   "execution_count": 13,
   "id": "46db295b",
   "metadata": {},
   "outputs": [
    {
     "data": {
      "text/plain": [
       "str"
      ]
     },
     "execution_count": 13,
     "metadata": {},
     "output_type": "execute_result"
    }
   ],
   "source": [
    "type(c)"
   ]
  },
  {
   "cell_type": "code",
   "execution_count": 14,
   "id": "d1dd4dbd",
   "metadata": {},
   "outputs": [],
   "source": [
    "a='meme programmers'"
   ]
  },
  {
   "cell_type": "code",
   "execution_count": 15,
   "id": "df59a221",
   "metadata": {},
   "outputs": [
    {
     "data": {
      "text/plain": [
       "'meme programmers'"
      ]
     },
     "execution_count": 15,
     "metadata": {},
     "output_type": "execute_result"
    }
   ],
   "source": [
    "a"
   ]
  },
  {
   "cell_type": "code",
   "execution_count": 28,
   "id": "3a03410d",
   "metadata": {},
   "outputs": [],
   "source": [
    "a='H'"
   ]
  },
  {
   "cell_type": "code",
   "execution_count": 29,
   "id": "c25fd588",
   "metadata": {},
   "outputs": [
    {
     "data": {
      "text/plain": [
       "'H'"
      ]
     },
     "execution_count": 29,
     "metadata": {},
     "output_type": "execute_result"
    }
   ],
   "source": [
    "a"
   ]
  },
  {
   "cell_type": "code",
   "execution_count": 31,
   "id": "5e424763",
   "metadata": {},
   "outputs": [
    {
     "ename": "IndexError",
     "evalue": "string index out of range",
     "output_type": "error",
     "traceback": [
      "\u001b[1;31m---------------------------------------------------------------------------\u001b[0m",
      "\u001b[1;31mIndexError\u001b[0m                                Traceback (most recent call last)",
      "Input \u001b[1;32mIn [31]\u001b[0m, in \u001b[0;36m<cell line: 1>\u001b[1;34m()\u001b[0m\n\u001b[1;32m----> 1\u001b[0m \u001b[43ma\u001b[49m\u001b[43m[\u001b[49m\u001b[38;5;241;43m1\u001b[39;49m\u001b[43m]\u001b[49m\n",
      "\u001b[1;31mIndexError\u001b[0m: string index out of range"
     ]
    }
   ],
   "source": [
    "a[1]"
   ]
  },
  {
   "cell_type": "code",
   "execution_count": 40,
   "id": "e01d986d",
   "metadata": {},
   "outputs": [],
   "source": [
    "sampleString='web development'"
   ]
  },
  {
   "cell_type": "code",
   "execution_count": 43,
   "id": "7ba253f8",
   "metadata": {},
   "outputs": [
    {
     "ename": "IndexError",
     "evalue": "list index out of range",
     "output_type": "error",
     "traceback": [
      "\u001b[1;31m---------------------------------------------------------------------------\u001b[0m",
      "\u001b[1;31mIndexError\u001b[0m                                Traceback (most recent call last)",
      "Input \u001b[1;32mIn [43]\u001b[0m, in \u001b[0;36m<cell line: 1>\u001b[1;34m()\u001b[0m\n\u001b[1;32m----> 1\u001b[0m \u001b[43msampleString\u001b[49m\u001b[43m[\u001b[49m\u001b[38;5;241;43m2\u001b[39;49m\u001b[43m]\u001b[49m\n",
      "\u001b[1;31mIndexError\u001b[0m: list index out of range"
     ]
    }
   ],
   "source": [
    "sampleString[2]"
   ]
  },
  {
   "cell_type": "code",
   "execution_count": 37,
   "id": "a6a1ba2b",
   "metadata": {},
   "outputs": [],
   "source": [
    "a='meme programmers'"
   ]
  },
  {
   "cell_type": "code",
   "execution_count": 39,
   "id": "8a90669d",
   "metadata": {},
   "outputs": [
    {
     "data": {
      "text/plain": [
       "'meme'"
      ]
     },
     "execution_count": 39,
     "metadata": {},
     "output_type": "execute_result"
    }
   ],
   "source": [
    "a[0:4]"
   ]
  },
  {
   "cell_type": "code",
   "execution_count": 45,
   "id": "059055de",
   "metadata": {},
   "outputs": [
    {
     "data": {
      "text/plain": [
       "'meme pro'"
      ]
     },
     "execution_count": 45,
     "metadata": {},
     "output_type": "execute_result"
    }
   ],
   "source": [
    "a[0:8]"
   ]
  },
  {
   "cell_type": "code",
   "execution_count": 46,
   "id": "95581404",
   "metadata": {},
   "outputs": [
    {
     "data": {
      "text/plain": [
       "'programmers'"
      ]
     },
     "execution_count": 46,
     "metadata": {},
     "output_type": "execute_result"
    }
   ],
   "source": [
    "a[5:16]"
   ]
  },
  {
   "cell_type": "code",
   "execution_count": 47,
   "id": "f72951af",
   "metadata": {},
   "outputs": [
    {
     "data": {
      "text/plain": [
       "' pr'"
      ]
     },
     "execution_count": 47,
     "metadata": {},
     "output_type": "execute_result"
    }
   ],
   "source": [
    "a[4:7]"
   ]
  },
  {
   "cell_type": "code",
   "execution_count": 48,
   "id": "a5bd061b",
   "metadata": {},
   "outputs": [],
   "source": [
    "b='hello world'"
   ]
  },
  {
   "cell_type": "code",
   "execution_count": 49,
   "id": "8e849792",
   "metadata": {},
   "outputs": [
    {
     "data": {
      "text/plain": [
       "'o wor'"
      ]
     },
     "execution_count": 49,
     "metadata": {},
     "output_type": "execute_result"
    }
   ],
   "source": [
    "b[4:9]"
   ]
  },
  {
   "cell_type": "code",
   "execution_count": 50,
   "id": "b3fcc5b9",
   "metadata": {},
   "outputs": [
    {
     "data": {
      "text/plain": [
       "'hello world'"
      ]
     },
     "execution_count": 50,
     "metadata": {},
     "output_type": "execute_result"
    }
   ],
   "source": [
    "b[:]"
   ]
  },
  {
   "cell_type": "code",
   "execution_count": 51,
   "id": "95d5a328",
   "metadata": {},
   "outputs": [
    {
     "data": {
      "text/plain": [
       "'hello wo'"
      ]
     },
     "execution_count": 51,
     "metadata": {},
     "output_type": "execute_result"
    }
   ],
   "source": [
    "b[:8]"
   ]
  },
  {
   "cell_type": "code",
   "execution_count": 52,
   "id": "109ff113",
   "metadata": {},
   "outputs": [
    {
     "data": {
      "text/plain": [
       "'world'"
      ]
     },
     "execution_count": 52,
     "metadata": {},
     "output_type": "execute_result"
    }
   ],
   "source": [
    "b[6:]"
   ]
  },
  {
   "cell_type": "code",
   "execution_count": 53,
   "id": "b6dacb08",
   "metadata": {},
   "outputs": [],
   "source": [
    "a='abcdefgh'"
   ]
  },
  {
   "cell_type": "code",
   "execution_count": 54,
   "id": "7c77cd86",
   "metadata": {},
   "outputs": [
    {
     "data": {
      "text/plain": [
       "'abcd'"
      ]
     },
     "execution_count": 54,
     "metadata": {},
     "output_type": "execute_result"
    }
   ],
   "source": [
    "a[:4]"
   ]
  },
  {
   "cell_type": "code",
   "execution_count": 55,
   "id": "88f032c0",
   "metadata": {},
   "outputs": [
    {
     "data": {
      "text/plain": [
       "'current index=2\\nnew index=current index+step index\\nnew index=2+1'"
      ]
     },
     "execution_count": 55,
     "metadata": {},
     "output_type": "execute_result"
    }
   ],
   "source": [
    "'''current index=2\n",
    "new index=current index+step index\n",
    "new index=2+1'''"
   ]
  },
  {
   "cell_type": "code",
   "execution_count": 56,
   "id": "960dfd91",
   "metadata": {},
   "outputs": [],
   "source": [
    "a='123456789'"
   ]
  },
  {
   "cell_type": "code",
   "execution_count": 58,
   "id": "75ee5125",
   "metadata": {},
   "outputs": [
    {
     "data": {
      "text/plain": [
       "'13579'"
      ]
     },
     "execution_count": 58,
     "metadata": {},
     "output_type": "execute_result"
    }
   ],
   "source": [
    "a[::2]"
   ]
  },
  {
   "cell_type": "code",
   "execution_count": 59,
   "id": "5d26287c",
   "metadata": {},
   "outputs": [
    {
     "data": {
      "text/plain": [
       "'123456789'"
      ]
     },
     "execution_count": 59,
     "metadata": {},
     "output_type": "execute_result"
    }
   ],
   "source": [
    "a[::1]"
   ]
  },
  {
   "cell_type": "code",
   "execution_count": 60,
   "id": "9f49519f",
   "metadata": {},
   "outputs": [
    {
     "data": {
      "text/plain": [
       "'2'"
      ]
     },
     "execution_count": 60,
     "metadata": {},
     "output_type": "execute_result"
    }
   ],
   "source": [
    "a[1:3:8]"
   ]
  },
  {
   "cell_type": "code",
   "execution_count": 62,
   "id": "7e7e9cae",
   "metadata": {},
   "outputs": [
    {
     "data": {
      "text/plain": [
       "'2468'"
      ]
     },
     "execution_count": 62,
     "metadata": {},
     "output_type": "execute_result"
    }
   ],
   "source": [
    "a[1:8:2]"
   ]
  },
  {
   "cell_type": "code",
   "execution_count": 1,
   "id": "650766ce",
   "metadata": {},
   "outputs": [],
   "source": [
    "a='meme progrsmmers'"
   ]
  },
  {
   "cell_type": "code",
   "execution_count": 3,
   "id": "3234c590",
   "metadata": {},
   "outputs": [
    {
     "data": {
      "text/plain": [
       "'Meme progrsmmers'"
      ]
     },
     "execution_count": 3,
     "metadata": {},
     "output_type": "execute_result"
    }
   ],
   "source": [
    "a.capitalize()"
   ]
  },
  {
   "cell_type": "code",
   "execution_count": 6,
   "id": "8a073e9e",
   "metadata": {},
   "outputs": [
    {
     "data": {
      "text/plain": [
       "'Yashwanth'"
      ]
     },
     "execution_count": 6,
     "metadata": {},
     "output_type": "execute_result"
    }
   ],
   "source": [
    "'yashwanth'.capitalize()"
   ]
  },
  {
   "cell_type": "code",
   "execution_count": 8,
   "id": "7eaf2546",
   "metadata": {},
   "outputs": [],
   "source": [
    "a='sanjeevani'"
   ]
  },
  {
   "cell_type": "code",
   "execution_count": 10,
   "id": "66729755",
   "metadata": {},
   "outputs": [
    {
     "data": {
      "text/plain": [
       "'Sanjeevani'"
      ]
     },
     "execution_count": 10,
     "metadata": {},
     "output_type": "execute_result"
    }
   ],
   "source": [
    "a.capitalize()"
   ]
  },
  {
   "cell_type": "code",
   "execution_count": 11,
   "id": "3923db56",
   "metadata": {},
   "outputs": [],
   "source": [
    "y='smiley'"
   ]
  },
  {
   "cell_type": "code",
   "execution_count": 13,
   "id": "b6f5c65c",
   "metadata": {},
   "outputs": [
    {
     "data": {
      "text/plain": [
       "'Smiley'"
      ]
     },
     "execution_count": 13,
     "metadata": {},
     "output_type": "execute_result"
    }
   ],
   "source": [
    "y.title()"
   ]
  },
  {
   "cell_type": "code",
   "execution_count": 4,
   "id": "13c24e65",
   "metadata": {},
   "outputs": [
    {
     "data": {
      "text/plain": [
       "'Hello World'"
      ]
     },
     "execution_count": 4,
     "metadata": {},
     "output_type": "execute_result"
    }
   ],
   "source": [
    "'hello world'.title()"
   ]
  },
  {
   "cell_type": "code",
   "execution_count": 3,
   "id": "5baabfb2",
   "metadata": {},
   "outputs": [
    {
     "data": {
      "text/plain": [
       "'This Is My Chaneel'"
      ]
     },
     "execution_count": 3,
     "metadata": {},
     "output_type": "execute_result"
    }
   ],
   "source": [
    "'this is my chaneel'.title()"
   ]
  },
  {
   "cell_type": "code",
   "execution_count": 19,
   "id": "b9b8625b",
   "metadata": {},
   "outputs": [],
   "source": [
    "a='M Yashwanth'"
   ]
  },
  {
   "cell_type": "code",
   "execution_count": 20,
   "id": "71335c9d",
   "metadata": {},
   "outputs": [
    {
     "data": {
      "text/plain": [
       "True"
      ]
     },
     "execution_count": 20,
     "metadata": {},
     "output_type": "execute_result"
    }
   ],
   "source": [
    "a.istitle()"
   ]
  },
  {
   "cell_type": "code",
   "execution_count": 22,
   "id": "c4d22509",
   "metadata": {},
   "outputs": [
    {
     "data": {
      "text/plain": [
       "False"
      ]
     },
     "execution_count": 22,
     "metadata": {},
     "output_type": "execute_result"
    }
   ],
   "source": [
    "'yashwant sanjeevani'.istitle()"
   ]
  },
  {
   "cell_type": "code",
   "execution_count": 23,
   "id": "f53b9a9b",
   "metadata": {},
   "outputs": [],
   "source": [
    "a='yashwanth'"
   ]
  },
  {
   "cell_type": "code",
   "execution_count": 25,
   "id": "d1749d6f",
   "metadata": {},
   "outputs": [
    {
     "data": {
      "text/plain": [
       "'YASHWANTH'"
      ]
     },
     "execution_count": 25,
     "metadata": {},
     "output_type": "execute_result"
    }
   ],
   "source": [
    "a.upper()"
   ]
  },
  {
   "cell_type": "code",
   "execution_count": 29,
   "id": "419af9af",
   "metadata": {},
   "outputs": [
    {
     "data": {
      "text/plain": [
       "'JYOTHI'"
      ]
     },
     "execution_count": 29,
     "metadata": {},
     "output_type": "execute_result"
    }
   ],
   "source": [
    "'jyothi'.upper()"
   ]
  },
  {
   "cell_type": "code",
   "execution_count": 30,
   "id": "8229fe58",
   "metadata": {},
   "outputs": [],
   "source": [
    "a=\"YASHWANTH\""
   ]
  },
  {
   "cell_type": "code",
   "execution_count": 31,
   "id": "335fa6fa",
   "metadata": {},
   "outputs": [
    {
     "data": {
      "text/plain": [
       "'yashwanth'"
      ]
     },
     "execution_count": 31,
     "metadata": {},
     "output_type": "execute_result"
    }
   ],
   "source": [
    "a.lower()"
   ]
  },
  {
   "cell_type": "code",
   "execution_count": 32,
   "id": "681fef80",
   "metadata": {},
   "outputs": [
    {
     "data": {
      "text/plain": [
       "'nagendra chary'"
      ]
     },
     "execution_count": 32,
     "metadata": {},
     "output_type": "execute_result"
    }
   ],
   "source": [
    "'NAGENDRA CHARY'.lower()"
   ]
  },
  {
   "cell_type": "code",
   "execution_count": 33,
   "id": "88c03f97",
   "metadata": {},
   "outputs": [
    {
     "data": {
      "text/plain": [
       "'pubg'"
      ]
     },
     "execution_count": 33,
     "metadata": {},
     "output_type": "execute_result"
    }
   ],
   "source": [
    "'PUBG'.lower()"
   ]
  },
  {
   "cell_type": "code",
   "execution_count": 39,
   "id": "1b671a66",
   "metadata": {},
   "outputs": [],
   "source": [
    "a='yash'.islower()"
   ]
  },
  {
   "cell_type": "code",
   "execution_count": 40,
   "id": "5cfe6a34",
   "metadata": {},
   "outputs": [
    {
     "data": {
      "text/plain": [
       "False"
      ]
     },
     "execution_count": 40,
     "metadata": {},
     "output_type": "execute_result"
    }
   ],
   "source": [
    "'Guide Van Rassum'.islower()"
   ]
  },
  {
   "cell_type": "code",
   "execution_count": 42,
   "id": "aa94ec5d",
   "metadata": {},
   "outputs": [],
   "source": [
    "a='yash'.islower()"
   ]
  },
  {
   "cell_type": "code",
   "execution_count": 43,
   "id": "a5da091c",
   "metadata": {},
   "outputs": [
    {
     "data": {
      "text/plain": [
       "False"
      ]
     },
     "execution_count": 43,
     "metadata": {},
     "output_type": "execute_result"
    }
   ],
   "source": [
    "'Webdevelopment'.islower()"
   ]
  },
  {
   "cell_type": "code",
   "execution_count": 44,
   "id": "2c8d4619",
   "metadata": {},
   "outputs": [
    {
     "data": {
      "text/plain": [
       "True"
      ]
     },
     "execution_count": 44,
     "metadata": {},
     "output_type": "execute_result"
    }
   ],
   "source": [
    "'webdevelopment'.islower()"
   ]
  },
  {
   "cell_type": "code",
   "execution_count": 46,
   "id": "eafe402d",
   "metadata": {},
   "outputs": [
    {
     "data": {
      "text/plain": [
       "'AbCd'"
      ]
     },
     "execution_count": 46,
     "metadata": {},
     "output_type": "execute_result"
    }
   ],
   "source": [
    "'aBcD'.swapcase()"
   ]
  },
  {
   "cell_type": "code",
   "execution_count": 49,
   "id": "78f70769",
   "metadata": {},
   "outputs": [
    {
     "data": {
      "text/plain": [
       "'YaShwAnTh'"
      ]
     },
     "execution_count": 49,
     "metadata": {},
     "output_type": "execute_result"
    }
   ],
   "source": [
    "'yAsHWaNtH'.swapcase()"
   ]
  },
  {
   "cell_type": "code",
   "execution_count": 50,
   "id": "f484f5cd",
   "metadata": {},
   "outputs": [],
   "source": [
    "a='naGGaNNA'"
   ]
  },
  {
   "cell_type": "code",
   "execution_count": 51,
   "id": "6fd28083",
   "metadata": {},
   "outputs": [
    {
     "data": {
      "text/plain": [
       "'NAggAnna'"
      ]
     },
     "execution_count": 51,
     "metadata": {},
     "output_type": "execute_result"
    }
   ],
   "source": [
    "a.swapcase()"
   ]
  },
  {
   "cell_type": "code",
   "execution_count": 52,
   "id": "8864fa01",
   "metadata": {},
   "outputs": [
    {
     "data": {
      "text/plain": [
       "'caRoNA'"
      ]
     },
     "execution_count": 52,
     "metadata": {},
     "output_type": "execute_result"
    }
   ],
   "source": [
    "'CArOna'.swapcase()"
   ]
  },
  {
   "cell_type": "code",
   "execution_count": 56,
   "id": "b254257c",
   "metadata": {},
   "outputs": [],
   "source": [
    "a='every this is easy'"
   ]
  },
  {
   "cell_type": "code",
   "execution_count": 61,
   "id": "55820e90",
   "metadata": {},
   "outputs": [
    {
     "data": {
      "text/plain": [
       "8"
      ]
     },
     "execution_count": 61,
     "metadata": {},
     "output_type": "execute_result"
    }
   ],
   "source": [
    "a.index('is')"
   ]
  },
  {
   "cell_type": "code",
   "execution_count": 63,
   "id": "44773da3",
   "metadata": {},
   "outputs": [],
   "source": [
    "a='my name is yash'"
   ]
  },
  {
   "cell_type": "code",
   "execution_count": 64,
   "id": "8c285159",
   "metadata": {},
   "outputs": [
    {
     "data": {
      "text/plain": [
       "11"
      ]
     },
     "execution_count": 64,
     "metadata": {},
     "output_type": "execute_result"
    }
   ],
   "source": [
    "a.index('yash')"
   ]
  },
  {
   "cell_type": "code",
   "execution_count": 65,
   "id": "0af05a51",
   "metadata": {},
   "outputs": [],
   "source": [
    "y='yashwanth'"
   ]
  },
  {
   "cell_type": "code",
   "execution_count": 67,
   "id": "204061e5",
   "metadata": {},
   "outputs": [
    {
     "data": {
      "text/plain": [
       "3"
      ]
     },
     "execution_count": 67,
     "metadata": {},
     "output_type": "execute_result"
    }
   ],
   "source": [
    "y.find('h')"
   ]
  },
  {
   "cell_type": "code",
   "execution_count": 68,
   "id": "dbb6b404",
   "metadata": {},
   "outputs": [
    {
     "data": {
      "text/plain": [
       "-1"
      ]
     },
     "execution_count": 68,
     "metadata": {},
     "output_type": "execute_result"
    }
   ],
   "source": [
    "y.find('h,4')"
   ]
  },
  {
   "cell_type": "code",
   "execution_count": 7,
   "id": "984e9af1",
   "metadata": {},
   "outputs": [
    {
     "data": {
      "text/plain": [
       "['', 'his is my you ', 'ube channel']"
      ]
     },
     "execution_count": 7,
     "metadata": {},
     "output_type": "execute_result"
    }
   ],
   "source": [
    "'this is my you tube channel'.split('t')"
   ]
  },
  {
   "cell_type": "code",
   "execution_count": 9,
   "id": "a681237b",
   "metadata": {},
   "outputs": [
    {
     "data": {
      "text/plain": [
       "['y', 'shw', 'nth']"
      ]
     },
     "execution_count": 9,
     "metadata": {},
     "output_type": "execute_result"
    }
   ],
   "source": [
    "'yashwanth'.split('a')"
   ]
  },
  {
   "cell_type": "code",
   "execution_count": 2,
   "id": "a377f03e",
   "metadata": {},
   "outputs": [
    {
     "data": {
      "text/plain": [
       "['y', 'shwanth']"
      ]
     },
     "execution_count": 2,
     "metadata": {},
     "output_type": "execute_result"
    }
   ],
   "source": [
    "'yashwanth'.split('a',1)"
   ]
  },
  {
   "cell_type": "code",
   "execution_count": 3,
   "id": "0c908f81",
   "metadata": {},
   "outputs": [],
   "source": [
    "a='hello world'"
   ]
  },
  {
   "cell_type": "code",
   "execution_count": 4,
   "id": "3b6b523b",
   "metadata": {},
   "outputs": [
    {
     "data": {
      "text/plain": [
       "'hello world'"
      ]
     },
     "execution_count": 4,
     "metadata": {},
     "output_type": "execute_result"
    }
   ],
   "source": [
    "a"
   ]
  },
  {
   "cell_type": "code",
   "execution_count": 5,
   "id": "6faeaf75",
   "metadata": {},
   "outputs": [
    {
     "data": {
      "text/plain": [
       "['eat', ' sleep', ' morn', ' even', '']"
      ]
     },
     "execution_count": 5,
     "metadata": {},
     "output_type": "execute_result"
    }
   ],
   "source": [
    "'eating sleeping morning evening'.split('ing')"
   ]
  },
  {
   "cell_type": "code",
   "execution_count": 6,
   "id": "dfdf0381",
   "metadata": {},
   "outputs": [
    {
     "data": {
      "text/plain": [
       "['python']"
      ]
     },
     "execution_count": 6,
     "metadata": {},
     "output_type": "execute_result"
    }
   ],
   "source": [
    "'python'.split('e')"
   ]
  },
  {
   "cell_type": "code",
   "execution_count": 8,
   "id": "81e43cfb",
   "metadata": {},
   "outputs": [],
   "source": [
    "a='hai'"
   ]
  },
  {
   "cell_type": "code",
   "execution_count": 9,
   "id": "bf5cee5b",
   "metadata": {},
   "outputs": [
    {
     "data": {
      "text/plain": [
       "'1hai2hai3hai4'"
      ]
     },
     "execution_count": 9,
     "metadata": {},
     "output_type": "execute_result"
    }
   ],
   "source": [
    "a.join('1234')"
   ]
  },
  {
   "cell_type": "code",
   "execution_count": 10,
   "id": "eb092d59",
   "metadata": {},
   "outputs": [],
   "source": [
    "a='yash'"
   ]
  },
  {
   "cell_type": "code",
   "execution_count": 11,
   "id": "2761c04e",
   "metadata": {},
   "outputs": [
    {
     "data": {
      "text/plain": [
       "'1yash4yash3'"
      ]
     },
     "execution_count": 11,
     "metadata": {},
     "output_type": "execute_result"
    }
   ],
   "source": [
    "a.join('143')"
   ]
  },
  {
   "cell_type": "code",
   "execution_count": 13,
   "id": "672b7977",
   "metadata": {},
   "outputs": [
    {
     "data": {
      "text/plain": [
       "'yash'"
      ]
     },
     "execution_count": 13,
     "metadata": {},
     "output_type": "execute_result"
    }
   ],
   "source": [
    "''.join('yash')"
   ]
  },
  {
   "cell_type": "code",
   "execution_count": 14,
   "id": "394a8a0c",
   "metadata": {},
   "outputs": [
    {
     "data": {
      "text/plain": [
       "'1yashwanth2yashwanth3'"
      ]
     },
     "execution_count": 14,
     "metadata": {},
     "output_type": "execute_result"
    }
   ],
   "source": [
    "'yashwanth'.join('123')"
   ]
  },
  {
   "cell_type": "code",
   "execution_count": null,
   "id": "9ed2dea5",
   "metadata": {},
   "outputs": [],
   "source": []
  },
  {
   "cell_type": "code",
   "execution_count": 17,
   "id": "23f76243",
   "metadata": {},
   "outputs": [
    {
     "name": "stdout",
     "output_type": "stream",
     "text": [
      "1yashwanth2yashwanth3\n"
     ]
    }
   ],
   "source": [
    "print(_)"
   ]
  },
  {
   "cell_type": "code",
   "execution_count": 18,
   "id": "8d36d371",
   "metadata": {},
   "outputs": [],
   "source": [
    "a='some'"
   ]
  },
  {
   "cell_type": "code",
   "execution_count": 19,
   "id": "ec6efb63",
   "metadata": {},
   "outputs": [
    {
     "data": {
      "text/plain": [
       "'jsomeosomeisomen'"
      ]
     },
     "execution_count": 19,
     "metadata": {},
     "output_type": "execute_result"
    }
   ],
   "source": [
    "a.join('join')"
   ]
  },
  {
   "cell_type": "code",
   "execution_count": 20,
   "id": "4eb15e5d",
   "metadata": {},
   "outputs": [
    {
     "data": {
      "text/plain": [
       "'msomeasomensomey'"
      ]
     },
     "execution_count": 20,
     "metadata": {},
     "output_type": "execute_result"
    }
   ],
   "source": [
    "'some'.join('many')"
   ]
  },
  {
   "cell_type": "code",
   "execution_count": 21,
   "id": "990a32fc",
   "metadata": {},
   "outputs": [],
   "source": [
    "b='yash'"
   ]
  },
  {
   "cell_type": "code",
   "execution_count": 22,
   "id": "d0db051d",
   "metadata": {},
   "outputs": [
    {
     "data": {
      "text/plain": [
       "'b'"
      ]
     },
     "execution_count": 22,
     "metadata": {},
     "output_type": "execute_result"
    }
   ],
   "source": [
    "b.join('b')"
   ]
  },
  {
   "cell_type": "code",
   "execution_count": 26,
   "id": "d55c5308",
   "metadata": {},
   "outputs": [
    {
     "data": {
      "text/plain": [
       "'abcd1234'"
      ]
     },
     "execution_count": 26,
     "metadata": {},
     "output_type": "execute_result"
    }
   ],
   "source": [
    "'abcd'+'1234'"
   ]
  },
  {
   "cell_type": "code",
   "execution_count": 27,
   "id": "365a030d",
   "metadata": {},
   "outputs": [],
   "source": [
    "a='web development'"
   ]
  },
  {
   "cell_type": "code",
   "execution_count": 28,
   "id": "2bfd6ca1",
   "metadata": {},
   "outputs": [
    {
     "data": {
      "text/plain": [
       "'w3b d3v3lopm3nt'"
      ]
     },
     "execution_count": 28,
     "metadata": {},
     "output_type": "execute_result"
    }
   ],
   "source": [
    "a.replace('e','3')"
   ]
  },
  {
   "cell_type": "code",
   "execution_count": 29,
   "id": "8db984d6",
   "metadata": {},
   "outputs": [
    {
     "data": {
      "text/plain": [
       "'w2b d2v2lopm2nt'"
      ]
     },
     "execution_count": 29,
     "metadata": {},
     "output_type": "execute_result"
    }
   ],
   "source": [
    "a.replace('e','2')"
   ]
  },
  {
   "cell_type": "code",
   "execution_count": 30,
   "id": "29e73776",
   "metadata": {},
   "outputs": [
    {
     "data": {
      "text/plain": [
       "'java programming language'"
      ]
     },
     "execution_count": 30,
     "metadata": {},
     "output_type": "execute_result"
    }
   ],
   "source": [
    "'python programming language'.replace('python','java')"
   ]
  },
  {
   "cell_type": "code",
   "execution_count": 31,
   "id": "a95529b7",
   "metadata": {},
   "outputs": [
    {
     "data": {
      "text/plain": [
       "'jyotwanth'"
      ]
     },
     "execution_count": 31,
     "metadata": {},
     "output_type": "execute_result"
    }
   ],
   "source": [
    "'yashwanth'.replace('yash','jyot')"
   ]
  },
  {
   "cell_type": "code",
   "execution_count": 32,
   "id": "ca94f354",
   "metadata": {},
   "outputs": [],
   "source": [
    "d='madam'"
   ]
  },
  {
   "cell_type": "code",
   "execution_count": 33,
   "id": "7805f2eb",
   "metadata": {},
   "outputs": [
    {
     "data": {
      "text/plain": [
       "2"
      ]
     },
     "execution_count": 33,
     "metadata": {},
     "output_type": "execute_result"
    }
   ],
   "source": [
    "d.count('a')"
   ]
  },
  {
   "cell_type": "code",
   "execution_count": 34,
   "id": "0630f3e0",
   "metadata": {},
   "outputs": [
    {
     "data": {
      "text/plain": [
       "5"
      ]
     },
     "execution_count": 34,
     "metadata": {},
     "output_type": "execute_result"
    }
   ],
   "source": [
    "'saragamapa'.count('a')"
   ]
  },
  {
   "cell_type": "code",
   "execution_count": 35,
   "id": "a0d0696e",
   "metadata": {},
   "outputs": [
    {
     "data": {
      "text/plain": [
       "True"
      ]
     },
     "execution_count": 35,
     "metadata": {},
     "output_type": "execute_result"
    }
   ],
   "source": [
    "' '.isspace()"
   ]
  },
  {
   "cell_type": "code",
   "execution_count": 36,
   "id": "30055443",
   "metadata": {},
   "outputs": [
    {
     "data": {
      "text/plain": [
       "False"
      ]
     },
     "execution_count": 36,
     "metadata": {},
     "output_type": "execute_result"
    }
   ],
   "source": [
    "'true'.isspace()"
   ]
  },
  {
   "cell_type": "code",
   "execution_count": 37,
   "id": "c86143be",
   "metadata": {},
   "outputs": [
    {
     "data": {
      "text/plain": [
       "True"
      ]
     },
     "execution_count": 37,
     "metadata": {},
     "output_type": "execute_result"
    }
   ],
   "source": [
    "'supriya'.startswith('s')"
   ]
  },
  {
   "cell_type": "code",
   "execution_count": 38,
   "id": "f062fe57",
   "metadata": {},
   "outputs": [
    {
     "data": {
      "text/plain": [
       "False"
      ]
     },
     "execution_count": 38,
     "metadata": {},
     "output_type": "execute_result"
    }
   ],
   "source": [
    "'supriya'.startswith('a')"
   ]
  },
  {
   "cell_type": "code",
   "execution_count": 39,
   "id": "c30475a7",
   "metadata": {},
   "outputs": [
    {
     "data": {
      "text/plain": [
       "False"
      ]
     },
     "execution_count": 39,
     "metadata": {},
     "output_type": "execute_result"
    }
   ],
   "source": [
    "'sanjeevani'.endswith('s')"
   ]
  },
  {
   "cell_type": "code",
   "execution_count": 40,
   "id": "2f698aa8",
   "metadata": {},
   "outputs": [
    {
     "data": {
      "text/plain": [
       "True"
      ]
     },
     "execution_count": 40,
     "metadata": {},
     "output_type": "execute_result"
    }
   ],
   "source": [
    "'sanjeevani'.endswith('i')"
   ]
  },
  {
   "cell_type": "code",
   "execution_count": 41,
   "id": "771e870e",
   "metadata": {},
   "outputs": [
    {
     "data": {
      "text/plain": [
       "True"
      ]
     },
     "execution_count": 41,
     "metadata": {},
     "output_type": "execute_result"
    }
   ],
   "source": [
    "'yash'.isidentifier()"
   ]
  },
  {
   "cell_type": "code",
   "execution_count": 6,
   "id": "6c534f1b",
   "metadata": {},
   "outputs": [
    {
     "ename": "AttributeError",
     "evalue": "'str' object has no attribute 'isdientifier'",
     "output_type": "error",
     "traceback": [
      "\u001b[1;31m---------------------------------------------------------------------------\u001b[0m",
      "\u001b[1;31mAttributeError\u001b[0m                            Traceback (most recent call last)",
      "Input \u001b[1;32mIn [6]\u001b[0m, in \u001b[0;36m<cell line: 1>\u001b[1;34m()\u001b[0m\n\u001b[1;32m----> 1\u001b[0m \u001b[38;5;124;43m'\u001b[39;49m\u001b[38;5;124;43m23ys45r\u001b[39;49m\u001b[38;5;124;43m'\u001b[39;49m\u001b[38;5;241;43m.\u001b[39;49m\u001b[43misdientifier\u001b[49m()\n",
      "\u001b[1;31mAttributeError\u001b[0m: 'str' object has no attribute 'isdientifier'"
     ]
    }
   ],
   "source": [
    "'23ys45r'.isdientifier()"
   ]
  },
  {
   "cell_type": "code",
   "execution_count": 45,
   "id": "38bf3db1",
   "metadata": {},
   "outputs": [
    {
     "data": {
      "text/plain": [
       "True"
      ]
     },
     "execution_count": 45,
     "metadata": {},
     "output_type": "execute_result"
    }
   ],
   "source": [
    "'nagendrachary'.isalpha()"
   ]
  },
  {
   "cell_type": "code",
   "execution_count": 46,
   "id": "d6e951e3",
   "metadata": {},
   "outputs": [
    {
     "data": {
      "text/plain": [
       "False"
      ]
     },
     "execution_count": 46,
     "metadata": {},
     "output_type": "execute_result"
    }
   ],
   "source": [
    "'jyothi143nagendrachary'.isalpha()"
   ]
  },
  {
   "cell_type": "code",
   "execution_count": 47,
   "id": "43956899",
   "metadata": {},
   "outputs": [
    {
     "data": {
      "text/plain": [
       "True"
      ]
     },
     "execution_count": 47,
     "metadata": {},
     "output_type": "execute_result"
    }
   ],
   "source": [
    "'123455'.isdecimal()"
   ]
  },
  {
   "cell_type": "code",
   "execution_count": 48,
   "id": "48a5d773",
   "metadata": {},
   "outputs": [
    {
     "data": {
      "text/plain": [
       "False"
      ]
     },
     "execution_count": 48,
     "metadata": {},
     "output_type": "execute_result"
    }
   ],
   "source": [
    "'12e444'.isdecimal()"
   ]
  },
  {
   "cell_type": "code",
   "execution_count": 50,
   "id": "a3fb31ec",
   "metadata": {},
   "outputs": [],
   "source": [
    "a=\"6^2\""
   ]
  },
  {
   "cell_type": "code",
   "execution_count": 51,
   "id": "1ae50d61",
   "metadata": {},
   "outputs": [
    {
     "data": {
      "text/plain": [
       "'6^2'"
      ]
     },
     "execution_count": 51,
     "metadata": {},
     "output_type": "execute_result"
    }
   ],
   "source": [
    "a"
   ]
  },
  {
   "cell_type": "code",
   "execution_count": 52,
   "id": "3c7aeafb",
   "metadata": {},
   "outputs": [
    {
     "data": {
      "text/plain": [
       "True"
      ]
     },
     "execution_count": 52,
     "metadata": {},
     "output_type": "execute_result"
    }
   ],
   "source": [
    "'123445'.isnumeric()"
   ]
  },
  {
   "cell_type": "code",
   "execution_count": 53,
   "id": "9f4c6997",
   "metadata": {},
   "outputs": [
    {
     "data": {
      "text/plain": [
       "False"
      ]
     },
     "execution_count": 53,
     "metadata": {},
     "output_type": "execute_result"
    }
   ],
   "source": [
    "'12wsr'.isnumeric()"
   ]
  },
  {
   "cell_type": "code",
   "execution_count": 54,
   "id": "3bb320fc",
   "metadata": {},
   "outputs": [
    {
     "data": {
      "text/plain": [
       "True"
      ]
     },
     "execution_count": 54,
     "metadata": {},
     "output_type": "execute_result"
    }
   ],
   "source": [
    "'yash1shu3'.isalnum()"
   ]
  },
  {
   "cell_type": "code",
   "execution_count": 1,
   "id": "22995f9c",
   "metadata": {},
   "outputs": [],
   "source": [
    "#ASCII:american standrad code for information interchange"
   ]
  },
  {
   "cell_type": "code",
   "execution_count": 3,
   "id": "17e2554f",
   "metadata": {},
   "outputs": [
    {
     "data": {
      "text/plain": [
       "'\\x17'"
      ]
     },
     "execution_count": 3,
     "metadata": {},
     "output_type": "execute_result"
    }
   ],
   "source": [
    "chr(23)"
   ]
  },
  {
   "cell_type": "code",
   "execution_count": 5,
   "id": "554ffeed",
   "metadata": {},
   "outputs": [
    {
     "data": {
      "text/plain": [
       "106"
      ]
     },
     "execution_count": 5,
     "metadata": {},
     "output_type": "execute_result"
    }
   ],
   "source": [
    "ord('j')"
   ]
  },
  {
   "cell_type": "code",
   "execution_count": 6,
   "id": "1e75da47",
   "metadata": {},
   "outputs": [
    {
     "data": {
      "text/plain": [
       "'9'"
      ]
     },
     "execution_count": 6,
     "metadata": {},
     "output_type": "execute_result"
    }
   ],
   "source": [
    "max('3792374645')"
   ]
  },
  {
   "cell_type": "code",
   "execution_count": 7,
   "id": "8f42c303",
   "metadata": {},
   "outputs": [
    {
     "data": {
      "text/plain": [
       "'u'"
      ]
     },
     "execution_count": 7,
     "metadata": {},
     "output_type": "execute_result"
    }
   ],
   "source": [
    "max('je3838eudn3q$@^&')"
   ]
  },
  {
   "cell_type": "code",
   "execution_count": 8,
   "id": "e8988c70",
   "metadata": {},
   "outputs": [
    {
     "data": {
      "text/plain": [
       "'1'"
      ]
     },
     "execution_count": 8,
     "metadata": {},
     "output_type": "execute_result"
    }
   ],
   "source": [
    "min('123478765')"
   ]
  },
  {
   "cell_type": "code",
   "execution_count": 9,
   "id": "ab3474da",
   "metadata": {},
   "outputs": [
    {
     "data": {
      "text/plain": [
       "9"
      ]
     },
     "execution_count": 9,
     "metadata": {},
     "output_type": "execute_result"
    }
   ],
   "source": [
    "len('yashwanth')"
   ]
  },
  {
   "cell_type": "code",
   "execution_count": 10,
   "id": "7f557362",
   "metadata": {},
   "outputs": [
    {
     "data": {
      "text/plain": [
       "16"
      ]
     },
     "execution_count": 10,
     "metadata": {},
     "output_type": "execute_result"
    }
   ],
   "source": [
    "len('meme programmers')"
   ]
  },
  {
   "cell_type": "code",
   "execution_count": 11,
   "id": "43a3d2e6",
   "metadata": {},
   "outputs": [
    {
     "data": {
      "text/plain": [
       "['1', '2', '3', '4', '5', '6', '7', '8', '9']"
      ]
     },
     "execution_count": 11,
     "metadata": {},
     "output_type": "execute_result"
    }
   ],
   "source": [
    "sorted('987654321')"
   ]
  },
  {
   "cell_type": "code",
   "execution_count": 12,
   "id": "0a13b1e0",
   "metadata": {},
   "outputs": [
    {
     "data": {
      "text/plain": [
       "['a',\n",
       " 'b',\n",
       " 'c',\n",
       " 'd',\n",
       " 'e',\n",
       " 'f',\n",
       " 'g',\n",
       " 'h',\n",
       " 'i',\n",
       " 'j',\n",
       " 'k',\n",
       " 'l',\n",
       " 'm',\n",
       " 'n',\n",
       " 'o',\n",
       " 'p',\n",
       " 'q',\n",
       " 'r',\n",
       " 's',\n",
       " 't',\n",
       " 'u',\n",
       " 'v',\n",
       " 'w',\n",
       " 'x',\n",
       " 'y',\n",
       " 'z']"
      ]
     },
     "execution_count": 12,
     "metadata": {},
     "output_type": "execute_result"
    }
   ],
   "source": [
    "sorted('abcdefghijklmnopqrstuvwxyz')"
   ]
  },
  {
   "cell_type": "code",
   "execution_count": 13,
   "id": "4444511c",
   "metadata": {},
   "outputs": [
    {
     "data": {
      "text/plain": [
       "['9', '8', '7', '6', '5', '4', '3', '2', '1']"
      ]
     },
     "execution_count": 13,
     "metadata": {},
     "output_type": "execute_result"
    }
   ],
   "source": [
    "sorted('123456789',reverse=True)"
   ]
  },
  {
   "cell_type": "code",
   "execution_count": 7,
   "id": "bf19f86e",
   "metadata": {},
   "outputs": [
    {
     "name": "stdout",
     "output_type": "stream",
     "text": [
      "ture\n"
     ]
    },
    {
     "data": {
      "text/plain": [
       "True"
      ]
     },
     "execution_count": 7,
     "metadata": {},
     "output_type": "execute_result"
    }
   ],
   "source": [
    "bool(input())"
   ]
  },
  {
   "cell_type": "code",
   "execution_count": 8,
   "id": "713d5f30",
   "metadata": {},
   "outputs": [
    {
     "data": {
      "text/plain": [
       "bool"
      ]
     },
     "execution_count": 8,
     "metadata": {},
     "output_type": "execute_result"
    }
   ],
   "source": [
    "type(_)"
   ]
  },
  {
   "cell_type": "code",
   "execution_count": 10,
   "id": "f34ce89d",
   "metadata": {},
   "outputs": [
    {
     "name": "stdout",
     "output_type": "stream",
     "text": [
      "flase\n"
     ]
    }
   ],
   "source": [
    "a=bool(input())"
   ]
  },
  {
   "cell_type": "code",
   "execution_count": 13,
   "id": "aebb15e5",
   "metadata": {},
   "outputs": [],
   "source": [
    "a=[]"
   ]
  },
  {
   "cell_type": "code",
   "execution_count": 14,
   "id": "e8e8aadb",
   "metadata": {},
   "outputs": [
    {
     "data": {
      "text/plain": [
       "list"
      ]
     },
     "execution_count": 14,
     "metadata": {},
     "output_type": "execute_result"
    }
   ],
   "source": [
    "type(a)"
   ]
  },
  {
   "cell_type": "code",
   "execution_count": 16,
   "id": "f23cb831",
   "metadata": {},
   "outputs": [],
   "source": [
    "a=['meme,programmers,1,2']"
   ]
  },
  {
   "cell_type": "code",
   "execution_count": 17,
   "id": "e91ba4b8",
   "metadata": {},
   "outputs": [
    {
     "data": {
      "text/plain": [
       "['meme,programmers,1,2']"
      ]
     },
     "execution_count": 17,
     "metadata": {},
     "output_type": "execute_result"
    }
   ],
   "source": [
    "a"
   ]
  },
  {
   "cell_type": "code",
   "execution_count": 19,
   "id": "be850825",
   "metadata": {},
   "outputs": [
    {
     "data": {
      "text/plain": [
       "list"
      ]
     },
     "execution_count": 19,
     "metadata": {},
     "output_type": "execute_result"
    }
   ],
   "source": [
    "type(a)"
   ]
  },
  {
   "cell_type": "code",
   "execution_count": 1,
   "id": "5b1fecce",
   "metadata": {},
   "outputs": [],
   "source": [
    "a=[12,13,'python']"
   ]
  },
  {
   "cell_type": "code",
   "execution_count": 2,
   "id": "51e72608",
   "metadata": {},
   "outputs": [
    {
     "data": {
      "text/plain": [
       "[12, 13, 'python']"
      ]
     },
     "execution_count": 2,
     "metadata": {},
     "output_type": "execute_result"
    }
   ],
   "source": [
    "a"
   ]
  },
  {
   "cell_type": "code",
   "execution_count": 6,
   "id": "ae43b68d",
   "metadata": {},
   "outputs": [
    {
     "data": {
      "text/plain": [
       "'python'"
      ]
     },
     "execution_count": 6,
     "metadata": {},
     "output_type": "execute_result"
    }
   ],
   "source": [
    "a[2]"
   ]
  },
  {
   "cell_type": "code",
   "execution_count": 7,
   "id": "d7f589e2",
   "metadata": {},
   "outputs": [
    {
     "data": {
      "text/plain": [
       "13"
      ]
     },
     "execution_count": 7,
     "metadata": {},
     "output_type": "execute_result"
    }
   ],
   "source": [
    "a[1]"
   ]
  },
  {
   "cell_type": "code",
   "execution_count": 9,
   "id": "24696a1f",
   "metadata": {},
   "outputs": [
    {
     "data": {
      "text/plain": [
       "'python'"
      ]
     },
     "execution_count": 9,
     "metadata": {},
     "output_type": "execute_result"
    }
   ],
   "source": [
    "#negative index\n",
    "a[-1]"
   ]
  },
  {
   "cell_type": "code",
   "execution_count": 10,
   "id": "c2c665fe",
   "metadata": {},
   "outputs": [],
   "source": [
    "a=[1,2,3,4,5,6,7,8,9,10]"
   ]
  },
  {
   "cell_type": "code",
   "execution_count": 11,
   "id": "bd670210",
   "metadata": {},
   "outputs": [
    {
     "data": {
      "text/plain": [
       "[1, 2, 3, 4, 5, 6, 7, 8, 9, 10]"
      ]
     },
     "execution_count": 11,
     "metadata": {},
     "output_type": "execute_result"
    }
   ],
   "source": [
    "a"
   ]
  },
  {
   "cell_type": "code",
   "execution_count": 12,
   "id": "5476b2ac",
   "metadata": {},
   "outputs": [
    {
     "data": {
      "text/plain": [
       "5"
      ]
     },
     "execution_count": 12,
     "metadata": {},
     "output_type": "execute_result"
    }
   ],
   "source": [
    "a[4]"
   ]
  },
  {
   "cell_type": "code",
   "execution_count": 13,
   "id": "fe1d235f",
   "metadata": {},
   "outputs": [
    {
     "data": {
      "text/plain": [
       "6"
      ]
     },
     "execution_count": 13,
     "metadata": {},
     "output_type": "execute_result"
    }
   ],
   "source": [
    "a[-5]"
   ]
  },
  {
   "cell_type": "code",
   "execution_count": 15,
   "id": "769ca5d4",
   "metadata": {},
   "outputs": [],
   "source": [
    "j=[1,1,2,4,6,8,'r','e','e']"
   ]
  },
  {
   "cell_type": "code",
   "execution_count": 16,
   "id": "33c5b74f",
   "metadata": {},
   "outputs": [
    {
     "data": {
      "text/plain": [
       "[1, 1, 2, 4, 6, 8, 'r', 'e', 'e']"
      ]
     },
     "execution_count": 16,
     "metadata": {},
     "output_type": "execute_result"
    }
   ],
   "source": [
    "j"
   ]
  },
  {
   "cell_type": "code",
   "execution_count": 17,
   "id": "a329f3dc",
   "metadata": {},
   "outputs": [
    {
     "data": {
      "text/plain": [
       "6"
      ]
     },
     "execution_count": 17,
     "metadata": {},
     "output_type": "execute_result"
    }
   ],
   "source": [
    "j[-5]"
   ]
  },
  {
   "cell_type": "code",
   "execution_count": 18,
   "id": "95ae322c",
   "metadata": {},
   "outputs": [
    {
     "data": {
      "text/plain": [
       "'e'"
      ]
     },
     "execution_count": 18,
     "metadata": {},
     "output_type": "execute_result"
    }
   ],
   "source": [
    "j[-1]"
   ]
  },
  {
   "cell_type": "code",
   "execution_count": 20,
   "id": "d2d250bd",
   "metadata": {},
   "outputs": [],
   "source": [
    "#slicing\n",
    "#list[start,stop,step]\n",
    "y=[1,2,3,4,'a','b','c','d']"
   ]
  },
  {
   "cell_type": "code",
   "execution_count": 21,
   "id": "d484d6db",
   "metadata": {},
   "outputs": [
    {
     "data": {
      "text/plain": [
       "[1, 2, 3, 4, 'a', 'b', 'c', 'd']"
      ]
     },
     "execution_count": 21,
     "metadata": {},
     "output_type": "execute_result"
    }
   ],
   "source": [
    "y"
   ]
  },
  {
   "cell_type": "code",
   "execution_count": 23,
   "id": "52ed4591",
   "metadata": {},
   "outputs": [
    {
     "data": {
      "text/plain": [
       "['a', 'b', 'c', 'd']"
      ]
     },
     "execution_count": 23,
     "metadata": {},
     "output_type": "execute_result"
    }
   ],
   "source": [
    "y[4:9]"
   ]
  },
  {
   "cell_type": "code",
   "execution_count": 26,
   "id": "0ddaa1d3",
   "metadata": {},
   "outputs": [
    {
     "data": {
      "text/plain": [
       "['c', 'd']"
      ]
     },
     "execution_count": 26,
     "metadata": {},
     "output_type": "execute_result"
    }
   ],
   "source": [
    "y[6:]"
   ]
  },
  {
   "cell_type": "code",
   "execution_count": 28,
   "id": "8540974b",
   "metadata": {},
   "outputs": [
    {
     "data": {
      "text/plain": [
       "[1, 2, 3, 4]"
      ]
     },
     "execution_count": 28,
     "metadata": {},
     "output_type": "execute_result"
    }
   ],
   "source": [
    "y[:4]"
   ]
  },
  {
   "cell_type": "code",
   "execution_count": 29,
   "id": "7f5bd5d0",
   "metadata": {},
   "outputs": [
    {
     "data": {
      "text/plain": [
       "[1, 3, 'a', 'c']"
      ]
     },
     "execution_count": 29,
     "metadata": {},
     "output_type": "execute_result"
    }
   ],
   "source": [
    "#step value 2 esthe oka number jump aethedi\n",
    "y[:9:2]"
   ]
  },
  {
   "cell_type": "code",
   "execution_count": 31,
   "id": "659a66ad",
   "metadata": {},
   "outputs": [],
   "source": [
    "y=['a',1,'b',2,'c',3,'d']"
   ]
  },
  {
   "cell_type": "code",
   "execution_count": 32,
   "id": "dfd09035",
   "metadata": {},
   "outputs": [
    {
     "data": {
      "text/plain": [
       "['a', 1, 'b', 2, 'c', 3, 'd']"
      ]
     },
     "execution_count": 32,
     "metadata": {},
     "output_type": "execute_result"
    }
   ],
   "source": [
    "y"
   ]
  },
  {
   "cell_type": "code",
   "execution_count": 34,
   "id": "14f582e1",
   "metadata": {},
   "outputs": [
    {
     "data": {
      "text/plain": [
       "[1, 2, 3]"
      ]
     },
     "execution_count": 34,
     "metadata": {},
     "output_type": "execute_result"
    }
   ],
   "source": [
    "y[1::2]"
   ]
  },
  {
   "cell_type": "code",
   "execution_count": 36,
   "id": "fc097aff",
   "metadata": {},
   "outputs": [
    {
     "data": {
      "text/plain": [
       "['a', 'b', 'c', 'd']"
      ]
     },
     "execution_count": 36,
     "metadata": {},
     "output_type": "execute_result"
    }
   ],
   "source": [
    "y[:7:2]"
   ]
  },
  {
   "cell_type": "code",
   "execution_count": 37,
   "id": "e6b1c09d",
   "metadata": {},
   "outputs": [],
   "source": [
    "s=['a','b','c',1,'d','e','f',2,'g','h','i',3]"
   ]
  },
  {
   "cell_type": "code",
   "execution_count": 38,
   "id": "6a31b3d4",
   "metadata": {},
   "outputs": [
    {
     "data": {
      "text/plain": [
       "['a', 'b', 'c', 1, 'd', 'e', 'f', 2, 'g', 'h', 'i', 3]"
      ]
     },
     "execution_count": 38,
     "metadata": {},
     "output_type": "execute_result"
    }
   ],
   "source": [
    "s"
   ]
  },
  {
   "cell_type": "code",
   "execution_count": 41,
   "id": "1b165f1b",
   "metadata": {},
   "outputs": [
    {
     "data": {
      "text/plain": [
       "[1, 2, 3]"
      ]
     },
     "execution_count": 41,
     "metadata": {},
     "output_type": "execute_result"
    }
   ],
   "source": [
    "s[3::4]"
   ]
  },
  {
   "cell_type": "code",
   "execution_count": 53,
   "id": "fefd29c9",
   "metadata": {},
   "outputs": [
    {
     "data": {
      "text/plain": [
       "['a', 'c', 'd', 'f', 'g', 'i']"
      ]
     },
     "execution_count": 53,
     "metadata": {},
     "output_type": "execute_result"
    }
   ],
   "source": [
    "s[0:11:2]"
   ]
  },
  {
   "cell_type": "markdown",
   "id": "a1957df0",
   "metadata": {},
   "source": [
    "## "
   ]
  },
  {
   "cell_type": "code",
   "execution_count": 54,
   "id": "a1af7d33",
   "metadata": {},
   "outputs": [],
   "source": [
    "a=[1,2,3,4,'a','b','c','d']"
   ]
  },
  {
   "cell_type": "code",
   "execution_count": 55,
   "id": "33fa8aa4",
   "metadata": {
    "scrolled": true
   },
   "outputs": [
    {
     "data": {
      "text/plain": [
       "[1, 2, 3, 4, 'a', 'b', 'c', 'd']"
      ]
     },
     "execution_count": 55,
     "metadata": {},
     "output_type": "execute_result"
    }
   ],
   "source": [
    "a"
   ]
  },
  {
   "cell_type": "code",
   "execution_count": 57,
   "id": "cd47eb8a",
   "metadata": {},
   "outputs": [
    {
     "data": {
      "text/plain": [
       "['a', 'b', 'c', 'd']"
      ]
     },
     "execution_count": 57,
     "metadata": {},
     "output_type": "execute_result"
    }
   ],
   "source": [
    "a[-4::]"
   ]
  },
  {
   "cell_type": "code",
   "execution_count": 61,
   "id": "60c232a8",
   "metadata": {},
   "outputs": [
    {
     "data": {
      "text/plain": [
       "[1, 2, 3, 4]"
      ]
     },
     "execution_count": 61,
     "metadata": {},
     "output_type": "execute_result"
    }
   ],
   "source": [
    "a[-8:4:]"
   ]
  },
  {
   "cell_type": "markdown",
   "id": "11ee81fd",
   "metadata": {},
   "source": [
    "#### "
   ]
  },
  {
   "cell_type": "code",
   "execution_count": 66,
   "id": "5dfe8052",
   "metadata": {},
   "outputs": [],
   "source": [
    "i=['a',1,'b',2,'c',3]"
   ]
  },
  {
   "cell_type": "code",
   "execution_count": 67,
   "id": "a4e273de",
   "metadata": {},
   "outputs": [
    {
     "data": {
      "text/plain": [
       "['a', 1, 'b', 2, 'c', 3]"
      ]
     },
     "execution_count": 67,
     "metadata": {},
     "output_type": "execute_result"
    }
   ],
   "source": [
    "i"
   ]
  },
  {
   "cell_type": "code",
   "execution_count": 68,
   "id": "7137cba1",
   "metadata": {},
   "outputs": [
    {
     "data": {
      "text/plain": [
       "['a', 'b', 'c']"
      ]
     },
     "execution_count": 68,
     "metadata": {},
     "output_type": "execute_result"
    }
   ],
   "source": [
    "i[-6:5:2]"
   ]
  },
  {
   "cell_type": "code",
   "execution_count": 75,
   "id": "4e7dcc1e",
   "metadata": {},
   "outputs": [
    {
     "data": {
      "text/plain": [
       "[1, 2, 3]"
      ]
     },
     "execution_count": 75,
     "metadata": {},
     "output_type": "execute_result"
    }
   ],
   "source": [
    "i[-5::2]"
   ]
  },
  {
   "cell_type": "code",
   "execution_count": 76,
   "id": "e307b818",
   "metadata": {},
   "outputs": [],
   "source": [
    "#lists\n",
    "#insertion operation\n",
    "#deletion operation\n",
    "#updation operation\n",
    "#other operation\n"
   ]
  },
  {
   "cell_type": "code",
   "execution_count": 77,
   "id": "df44d074",
   "metadata": {},
   "outputs": [],
   "source": [
    "#insertion method \n",
    "#append method\n",
    "s=['python','java','c']"
   ]
  },
  {
   "cell_type": "code",
   "execution_count": 78,
   "id": "42b60a95",
   "metadata": {},
   "outputs": [
    {
     "data": {
      "text/plain": [
       "['python', 'java', 'c']"
      ]
     },
     "execution_count": 78,
     "metadata": {},
     "output_type": "execute_result"
    }
   ],
   "source": [
    "s"
   ]
  },
  {
   "cell_type": "code",
   "execution_count": 83,
   "id": "5fb35d00",
   "metadata": {},
   "outputs": [],
   "source": [
    "s.append('c++')"
   ]
  },
  {
   "cell_type": "code",
   "execution_count": 84,
   "id": "a71b2eb4",
   "metadata": {},
   "outputs": [
    {
     "data": {
      "text/plain": [
       "['python', 'java', 'c', 'c++', 'c++', 'hello', 'c++']"
      ]
     },
     "execution_count": 84,
     "metadata": {},
     "output_type": "execute_result"
    }
   ],
   "source": [
    "s"
   ]
  },
  {
   "cell_type": "code",
   "execution_count": 85,
   "id": "4a82ef72",
   "metadata": {},
   "outputs": [],
   "source": [
    "s.append([1,2,3])"
   ]
  },
  {
   "cell_type": "code",
   "execution_count": 86,
   "id": "32990970",
   "metadata": {},
   "outputs": [
    {
     "data": {
      "text/plain": [
       "['python', 'java', 'c', 'c++', 'c++', 'hello', 'c++', [1, 2, 3]]"
      ]
     },
     "execution_count": 86,
     "metadata": {},
     "output_type": "execute_result"
    }
   ],
   "source": [
    "s"
   ]
  },
  {
   "cell_type": "code",
   "execution_count": 87,
   "id": "abde997f",
   "metadata": {},
   "outputs": [],
   "source": [
    "a=('java script')"
   ]
  },
  {
   "cell_type": "code",
   "execution_count": 90,
   "id": "16406528",
   "metadata": {},
   "outputs": [],
   "source": [
    "s.append('java')"
   ]
  },
  {
   "cell_type": "code",
   "execution_count": 91,
   "id": "b1802b2f",
   "metadata": {},
   "outputs": [
    {
     "data": {
      "text/plain": [
       "['python', 'java', 'c', 'c++', 'c++', 'hello', 'c++', [1, 2, 3], 's', 'java']"
      ]
     },
     "execution_count": 91,
     "metadata": {},
     "output_type": "execute_result"
    }
   ],
   "source": [
    "s"
   ]
  },
  {
   "cell_type": "code",
   "execution_count": 96,
   "id": "29220867",
   "metadata": {},
   "outputs": [],
   "source": [
    "#insert method\n",
    "a=[1,2,3,4]"
   ]
  },
  {
   "cell_type": "code",
   "execution_count": 97,
   "id": "80c0e765",
   "metadata": {},
   "outputs": [],
   "source": [
    "a.insert(4,5)"
   ]
  },
  {
   "cell_type": "code",
   "execution_count": 98,
   "id": "4f5a86fd",
   "metadata": {},
   "outputs": [
    {
     "data": {
      "text/plain": [
       "[1, 2, 3, 4, 5]"
      ]
     },
     "execution_count": 98,
     "metadata": {},
     "output_type": "execute_result"
    }
   ],
   "source": [
    "a"
   ]
  },
  {
   "cell_type": "code",
   "execution_count": 99,
   "id": "15d82d1a",
   "metadata": {},
   "outputs": [],
   "source": [
    "a.insert(0,0)"
   ]
  },
  {
   "cell_type": "code",
   "execution_count": 100,
   "id": "bd5aa24c",
   "metadata": {},
   "outputs": [
    {
     "data": {
      "text/plain": [
       "[0, 1, 2, 3, 4, 5]"
      ]
     },
     "execution_count": 100,
     "metadata": {},
     "output_type": "execute_result"
    }
   ],
   "source": [
    "a"
   ]
  },
  {
   "cell_type": "code",
   "execution_count": 102,
   "id": "d3efec53",
   "metadata": {},
   "outputs": [],
   "source": [
    "a.insert(-2,96)"
   ]
  },
  {
   "cell_type": "code",
   "execution_count": 103,
   "id": "f984e72f",
   "metadata": {},
   "outputs": [
    {
     "data": {
      "text/plain": [
       "[0, 1, 2, 3, 96, 4, 5]"
      ]
     },
     "execution_count": 103,
     "metadata": {},
     "output_type": "execute_result"
    }
   ],
   "source": [
    "a"
   ]
  },
  {
   "cell_type": "code",
   "execution_count": 104,
   "id": "b247dc58",
   "metadata": {},
   "outputs": [],
   "source": [
    "a.insert(2,96)"
   ]
  },
  {
   "cell_type": "code",
   "execution_count": 105,
   "id": "3b8a91c4",
   "metadata": {},
   "outputs": [
    {
     "data": {
      "text/plain": [
       "[0, 1, 96, 2, 3, 96, 4, 5]"
      ]
     },
     "execution_count": 105,
     "metadata": {},
     "output_type": "execute_result"
    }
   ],
   "source": [
    "a"
   ]
  },
  {
   "cell_type": "code",
   "execution_count": 107,
   "id": "b6fcce22",
   "metadata": {},
   "outputs": [],
   "source": [
    "a.insert(0,11)"
   ]
  },
  {
   "cell_type": "code",
   "execution_count": 108,
   "id": "e268550d",
   "metadata": {},
   "outputs": [
    {
     "data": {
      "text/plain": [
       "[11, 0, 1, 96, 2, 3, 96, 4, 5]"
      ]
     },
     "execution_count": 108,
     "metadata": {},
     "output_type": "execute_result"
    }
   ],
   "source": [
    "a"
   ]
  },
  {
   "cell_type": "code",
   "execution_count": 109,
   "id": "2e455315",
   "metadata": {},
   "outputs": [],
   "source": [
    "a.insert(3,[1,2,3])"
   ]
  },
  {
   "cell_type": "code",
   "execution_count": 110,
   "id": "183254b0",
   "metadata": {},
   "outputs": [
    {
     "data": {
      "text/plain": [
       "[11, 0, 1, [1, 2, 3], 96, 2, 3, 96, 4, 5]"
      ]
     },
     "execution_count": 110,
     "metadata": {},
     "output_type": "execute_result"
    }
   ],
   "source": [
    "a"
   ]
  },
  {
   "cell_type": "code",
   "execution_count": 111,
   "id": "6832115b",
   "metadata": {},
   "outputs": [],
   "source": [
    "#extend method\n",
    "a=(1,2,3,4,5)"
   ]
  },
  {
   "cell_type": "code",
   "execution_count": 112,
   "id": "0a37ebb2",
   "metadata": {},
   "outputs": [
    {
     "data": {
      "text/plain": [
       "(1, 2, 3, 4, 5)"
      ]
     },
     "execution_count": 112,
     "metadata": {},
     "output_type": "execute_result"
    }
   ],
   "source": [
    "a"
   ]
  },
  {
   "cell_type": "code",
   "execution_count": 119,
   "id": "0d4015a0",
   "metadata": {},
   "outputs": [],
   "source": [
    "a=('english','maths')"
   ]
  },
  {
   "cell_type": "code",
   "execution_count": 120,
   "id": "847df11e",
   "metadata": {},
   "outputs": [
    {
     "data": {
      "text/plain": [
       "('english', 'maths')"
      ]
     },
     "execution_count": 120,
     "metadata": {},
     "output_type": "execute_result"
    }
   ],
   "source": [
    "a"
   ]
  },
  {
   "cell_type": "code",
   "execution_count": 1,
   "id": "232744c9",
   "metadata": {},
   "outputs": [
    {
     "ename": "NameError",
     "evalue": "name 'a' is not defined",
     "output_type": "error",
     "traceback": [
      "\u001b[1;31m---------------------------------------------------------------------------\u001b[0m",
      "\u001b[1;31mNameError\u001b[0m                                 Traceback (most recent call last)",
      "Input \u001b[1;32mIn [1]\u001b[0m, in \u001b[0;36m<cell line: 1>\u001b[1;34m()\u001b[0m\n\u001b[1;32m----> 1\u001b[0m \u001b[43ma\u001b[49m\u001b[38;5;241m.\u001b[39mextend(\u001b[38;5;124m'\u001b[39m\u001b[38;5;124mscience\u001b[39m\u001b[38;5;124m'\u001b[39m)\n",
      "\u001b[1;31mNameError\u001b[0m: name 'a' is not defined"
     ]
    }
   ],
   "source": [
    "a.extend('science')"
   ]
  },
  {
   "cell_type": "code",
   "execution_count": 6,
   "id": "f39ebaff",
   "metadata": {},
   "outputs": [],
   "source": [
    "#delation method\n",
    "#pop methed\n",
    "a=['yashwanth']"
   ]
  },
  {
   "cell_type": "code",
   "execution_count": 7,
   "id": "9dc48395",
   "metadata": {},
   "outputs": [
    {
     "data": {
      "text/plain": [
       "['yashwanth']"
      ]
     },
     "execution_count": 7,
     "metadata": {},
     "output_type": "execute_result"
    }
   ],
   "source": [
    "a"
   ]
  },
  {
   "cell_type": "code",
   "execution_count": 4,
   "id": "6d19f0ce",
   "metadata": {},
   "outputs": [
    {
     "data": {
      "text/plain": [
       "'yashwanth'"
      ]
     },
     "execution_count": 4,
     "metadata": {},
     "output_type": "execute_result"
    }
   ],
   "source": [
    "a.pop()"
   ]
  },
  {
   "cell_type": "code",
   "execution_count": 5,
   "id": "263927f9",
   "metadata": {},
   "outputs": [
    {
     "data": {
      "text/plain": [
       "[]"
      ]
     },
     "execution_count": 5,
     "metadata": {},
     "output_type": "execute_result"
    }
   ],
   "source": [
    "a"
   ]
  },
  {
   "cell_type": "code",
   "execution_count": 8,
   "id": "3bb509c3",
   "metadata": {},
   "outputs": [],
   "source": [
    "a=[1,2,3,'a','b','c']"
   ]
  },
  {
   "cell_type": "code",
   "execution_count": 9,
   "id": "0b21a030",
   "metadata": {},
   "outputs": [
    {
     "data": {
      "text/plain": [
       "[1, 2, 3, 'a', 'b', 'c']"
      ]
     },
     "execution_count": 9,
     "metadata": {},
     "output_type": "execute_result"
    }
   ],
   "source": [
    "a"
   ]
  },
  {
   "cell_type": "code",
   "execution_count": 10,
   "id": "c2c3f1cf",
   "metadata": {},
   "outputs": [
    {
     "data": {
      "text/plain": [
       "'c'"
      ]
     },
     "execution_count": 10,
     "metadata": {},
     "output_type": "execute_result"
    }
   ],
   "source": [
    "a.pop()"
   ]
  },
  {
   "cell_type": "code",
   "execution_count": 11,
   "id": "a39f9d07",
   "metadata": {},
   "outputs": [
    {
     "data": {
      "text/plain": [
       "[1, 2, 3, 'a', 'b']"
      ]
     },
     "execution_count": 11,
     "metadata": {},
     "output_type": "execute_result"
    }
   ],
   "source": [
    "a"
   ]
  },
  {
   "cell_type": "code",
   "execution_count": 12,
   "id": "135ed1ec",
   "metadata": {},
   "outputs": [
    {
     "data": {
      "text/plain": [
       "'a'"
      ]
     },
     "execution_count": 12,
     "metadata": {},
     "output_type": "execute_result"
    }
   ],
   "source": [
    "a.pop(3)"
   ]
  },
  {
   "cell_type": "code",
   "execution_count": 13,
   "id": "bea510d6",
   "metadata": {},
   "outputs": [
    {
     "data": {
      "text/plain": [
       "[1, 2, 3, 'b']"
      ]
     },
     "execution_count": 13,
     "metadata": {},
     "output_type": "execute_result"
    }
   ],
   "source": [
    "a"
   ]
  },
  {
   "cell_type": "code",
   "execution_count": 14,
   "id": "6128aaa5",
   "metadata": {},
   "outputs": [
    {
     "ename": "IndexError",
     "evalue": "pop index out of range",
     "output_type": "error",
     "traceback": [
      "\u001b[1;31m---------------------------------------------------------------------------\u001b[0m",
      "\u001b[1;31mIndexError\u001b[0m                                Traceback (most recent call last)",
      "Input \u001b[1;32mIn [14]\u001b[0m, in \u001b[0;36m<cell line: 1>\u001b[1;34m()\u001b[0m\n\u001b[1;32m----> 1\u001b[0m \u001b[43ma\u001b[49m\u001b[38;5;241;43m.\u001b[39;49m\u001b[43mpop\u001b[49m\u001b[43m(\u001b[49m\u001b[38;5;241;43m23\u001b[39;49m\u001b[43m)\u001b[49m\n",
      "\u001b[1;31mIndexError\u001b[0m: pop index out of range"
     ]
    }
   ],
   "source": [
    "a.pop(23)"
   ]
  },
  {
   "cell_type": "code",
   "execution_count": 15,
   "id": "24d8cf7a",
   "metadata": {},
   "outputs": [],
   "source": [
    "#remove method\n",
    "y=[1,2,3,4,'yash','smiley']"
   ]
  },
  {
   "cell_type": "code",
   "execution_count": 17,
   "id": "def6ddee",
   "metadata": {},
   "outputs": [
    {
     "data": {
      "text/plain": [
       "[1, 2, 3, 4, 'yash', 'smiley']"
      ]
     },
     "execution_count": 17,
     "metadata": {},
     "output_type": "execute_result"
    }
   ],
   "source": [
    "y"
   ]
  },
  {
   "cell_type": "code",
   "execution_count": 18,
   "id": "ff2d5b20",
   "metadata": {},
   "outputs": [],
   "source": [
    "y.remove('yash')"
   ]
  },
  {
   "cell_type": "code",
   "execution_count": 19,
   "id": "cdaf9528",
   "metadata": {},
   "outputs": [
    {
     "data": {
      "text/plain": [
       "[1, 2, 3, 4, 'smiley']"
      ]
     },
     "execution_count": 19,
     "metadata": {},
     "output_type": "execute_result"
    }
   ],
   "source": [
    "y"
   ]
  },
  {
   "cell_type": "code",
   "execution_count": 20,
   "id": "f667e179",
   "metadata": {},
   "outputs": [],
   "source": [
    "a=[1,2,3,4,5,5]"
   ]
  },
  {
   "cell_type": "code",
   "execution_count": 21,
   "id": "869d36eb",
   "metadata": {},
   "outputs": [],
   "source": [
    "a.remove(5)"
   ]
  },
  {
   "cell_type": "code",
   "execution_count": 22,
   "id": "1b0f975a",
   "metadata": {},
   "outputs": [
    {
     "data": {
      "text/plain": [
       "[1, 2, 3, 4, 5]"
      ]
     },
     "execution_count": 22,
     "metadata": {},
     "output_type": "execute_result"
    }
   ],
   "source": [
    "a"
   ]
  },
  {
   "cell_type": "code",
   "execution_count": 23,
   "id": "4c49a69d",
   "metadata": {},
   "outputs": [],
   "source": [
    "a.remove(3)"
   ]
  },
  {
   "cell_type": "code",
   "execution_count": 24,
   "id": "8a018fea",
   "metadata": {},
   "outputs": [
    {
     "data": {
      "text/plain": [
       "[1, 2, 4, 5]"
      ]
     },
     "execution_count": 24,
     "metadata": {},
     "output_type": "execute_result"
    }
   ],
   "source": [
    "a"
   ]
  },
  {
   "cell_type": "code",
   "execution_count": 25,
   "id": "1606dcc4",
   "metadata": {},
   "outputs": [],
   "source": [
    "#clear method\n",
    "a.clear()"
   ]
  },
  {
   "cell_type": "code",
   "execution_count": 26,
   "id": "ecf97dfd",
   "metadata": {},
   "outputs": [
    {
     "data": {
      "text/plain": [
       "[]"
      ]
     },
     "execution_count": 26,
     "metadata": {},
     "output_type": "execute_result"
    }
   ],
   "source": [
    "a"
   ]
  },
  {
   "cell_type": "code",
   "execution_count": 27,
   "id": "90568d4e",
   "metadata": {},
   "outputs": [
    {
     "data": {
      "text/plain": [
       "[1, 2, 3, 4, 'smiley']"
      ]
     },
     "execution_count": 27,
     "metadata": {},
     "output_type": "execute_result"
    }
   ],
   "source": [
    "y"
   ]
  },
  {
   "cell_type": "code",
   "execution_count": 28,
   "id": "8517e60c",
   "metadata": {},
   "outputs": [],
   "source": [
    "y.clear()"
   ]
  },
  {
   "cell_type": "code",
   "execution_count": 29,
   "id": "7f4c7de9",
   "metadata": {},
   "outputs": [
    {
     "data": {
      "text/plain": [
       "[]"
      ]
     },
     "execution_count": 29,
     "metadata": {},
     "output_type": "execute_result"
    }
   ],
   "source": [
    "y"
   ]
  },
  {
   "cell_type": "code",
   "execution_count": 30,
   "id": "3b18ff4c",
   "metadata": {},
   "outputs": [],
   "source": [
    "#updation operation\n",
    "l=[1,2,3,4,5]"
   ]
  },
  {
   "cell_type": "code",
   "execution_count": 31,
   "id": "52c0d9b9",
   "metadata": {},
   "outputs": [
    {
     "data": {
      "text/plain": [
       "[1, 2, 3, 4, 5]"
      ]
     },
     "execution_count": 31,
     "metadata": {},
     "output_type": "execute_result"
    }
   ],
   "source": [
    "l"
   ]
  },
  {
   "cell_type": "code",
   "execution_count": 34,
   "id": "52512ddc",
   "metadata": {},
   "outputs": [],
   "source": [
    "l[3]=10"
   ]
  },
  {
   "cell_type": "code",
   "execution_count": 35,
   "id": "26a624ef",
   "metadata": {},
   "outputs": [
    {
     "data": {
      "text/plain": [
       "[1, 2, 3, 10, 5]"
      ]
     },
     "execution_count": 35,
     "metadata": {},
     "output_type": "execute_result"
    }
   ],
   "source": [
    "l"
   ]
  },
  {
   "cell_type": "code",
   "execution_count": 41,
   "id": "1439a2df",
   "metadata": {},
   "outputs": [],
   "source": [
    "l[4]=6"
   ]
  },
  {
   "cell_type": "code",
   "execution_count": 42,
   "id": "1f3fa9c0",
   "metadata": {},
   "outputs": [
    {
     "data": {
      "text/plain": [
       "[1, 2, 3, 10, 6]"
      ]
     },
     "execution_count": 42,
     "metadata": {},
     "output_type": "execute_result"
    }
   ],
   "source": [
    "l"
   ]
  },
  {
   "cell_type": "code",
   "execution_count": 43,
   "id": "23584836",
   "metadata": {},
   "outputs": [],
   "source": [
    "l[-1]=20"
   ]
  },
  {
   "cell_type": "code",
   "execution_count": 44,
   "id": "634e080c",
   "metadata": {},
   "outputs": [
    {
     "data": {
      "text/plain": [
       "[1, 2, 3, 10, 20]"
      ]
     },
     "execution_count": 44,
     "metadata": {},
     "output_type": "execute_result"
    }
   ],
   "source": [
    "l"
   ]
  },
  {
   "cell_type": "code",
   "execution_count": 46,
   "id": "4aa71729",
   "metadata": {},
   "outputs": [],
   "source": [
    "k=[1,2,3,[4,5,6]]"
   ]
  },
  {
   "cell_type": "code",
   "execution_count": 47,
   "id": "6e35f078",
   "metadata": {},
   "outputs": [],
   "source": [
    "k[3]=['yash']"
   ]
  },
  {
   "cell_type": "code",
   "execution_count": 48,
   "id": "3256047b",
   "metadata": {},
   "outputs": [
    {
     "data": {
      "text/plain": [
       "[1, 2, 3, ['yash']]"
      ]
     },
     "execution_count": 48,
     "metadata": {},
     "output_type": "execute_result"
    }
   ],
   "source": [
    "k"
   ]
  },
  {
   "cell_type": "code",
   "execution_count": 50,
   "id": "7800d5c8",
   "metadata": {},
   "outputs": [],
   "source": [
    "k=[10,20,3,4,5]"
   ]
  },
  {
   "cell_type": "code",
   "execution_count": 52,
   "id": "24fb0f68",
   "metadata": {},
   "outputs": [],
   "source": [
    "k[2:3:]=30,40,50"
   ]
  },
  {
   "cell_type": "code",
   "execution_count": 53,
   "id": "7c05a8fc",
   "metadata": {},
   "outputs": [
    {
     "data": {
      "text/plain": [
       "[10, 20, 30, 40, 50, 4, 5]"
      ]
     },
     "execution_count": 53,
     "metadata": {},
     "output_type": "execute_result"
    }
   ],
   "source": [
    "k"
   ]
  },
  {
   "cell_type": "code",
   "execution_count": 54,
   "id": "9ebc63c3",
   "metadata": {},
   "outputs": [],
   "source": [
    "#other methods\n",
    "#sort\n",
    "n=[8,5,0,2,7,4]"
   ]
  },
  {
   "cell_type": "code",
   "execution_count": 55,
   "id": "a244122c",
   "metadata": {},
   "outputs": [],
   "source": [
    "n.sort()"
   ]
  },
  {
   "cell_type": "code",
   "execution_count": 56,
   "id": "e8973108",
   "metadata": {},
   "outputs": [
    {
     "data": {
      "text/plain": [
       "[0, 2, 4, 5, 7, 8]"
      ]
     },
     "execution_count": 56,
     "metadata": {},
     "output_type": "execute_result"
    }
   ],
   "source": [
    "n"
   ]
  },
  {
   "cell_type": "code",
   "execution_count": 57,
   "id": "55830653",
   "metadata": {},
   "outputs": [],
   "source": [
    "n.sort(reverse=True)"
   ]
  },
  {
   "cell_type": "code",
   "execution_count": 58,
   "id": "ec793754",
   "metadata": {},
   "outputs": [
    {
     "data": {
      "text/plain": [
       "[8, 7, 5, 4, 2, 0]"
      ]
     },
     "execution_count": 58,
     "metadata": {},
     "output_type": "execute_result"
    }
   ],
   "source": [
    "n"
   ]
  },
  {
   "cell_type": "code",
   "execution_count": 59,
   "id": "920f2970",
   "metadata": {},
   "outputs": [],
   "source": [
    "a=['e','r','w','u']"
   ]
  },
  {
   "cell_type": "code",
   "execution_count": 60,
   "id": "b733edf1",
   "metadata": {},
   "outputs": [],
   "source": [
    "a.sort()"
   ]
  },
  {
   "cell_type": "code",
   "execution_count": 61,
   "id": "0f23bf54",
   "metadata": {},
   "outputs": [
    {
     "data": {
      "text/plain": [
       "['e', 'r', 'u', 'w']"
      ]
     },
     "execution_count": 61,
     "metadata": {},
     "output_type": "execute_result"
    }
   ],
   "source": [
    "a"
   ]
  },
  {
   "cell_type": "code",
   "execution_count": 64,
   "id": "05dc48bf",
   "metadata": {},
   "outputs": [],
   "source": [
    "a.sort(reverse=True)"
   ]
  },
  {
   "cell_type": "code",
   "execution_count": 65,
   "id": "caf219b7",
   "metadata": {},
   "outputs": [
    {
     "data": {
      "text/plain": [
       "['w', 'u', 'r', 'e']"
      ]
     },
     "execution_count": 65,
     "metadata": {},
     "output_type": "execute_result"
    }
   ],
   "source": [
    "a"
   ]
  },
  {
   "cell_type": "code",
   "execution_count": 66,
   "id": "de685865",
   "metadata": {},
   "outputs": [],
   "source": [
    "#reverse\n",
    "a.reverse()"
   ]
  },
  {
   "cell_type": "code",
   "execution_count": 67,
   "id": "104ae071",
   "metadata": {},
   "outputs": [
    {
     "data": {
      "text/plain": [
       "['e', 'r', 'u', 'w']"
      ]
     },
     "execution_count": 67,
     "metadata": {},
     "output_type": "execute_result"
    }
   ],
   "source": [
    "a"
   ]
  },
  {
   "cell_type": "code",
   "execution_count": 68,
   "id": "3be42755",
   "metadata": {},
   "outputs": [],
   "source": [
    "w=[987654321]"
   ]
  },
  {
   "cell_type": "code",
   "execution_count": 69,
   "id": "416b10d3",
   "metadata": {},
   "outputs": [],
   "source": [
    "w.reverse()"
   ]
  },
  {
   "cell_type": "code",
   "execution_count": 70,
   "id": "8a6b017e",
   "metadata": {},
   "outputs": [
    {
     "data": {
      "text/plain": [
       "[987654321]"
      ]
     },
     "execution_count": 70,
     "metadata": {},
     "output_type": "execute_result"
    }
   ],
   "source": [
    "w"
   ]
  },
  {
   "cell_type": "code",
   "execution_count": 75,
   "id": "60f6cfed",
   "metadata": {},
   "outputs": [],
   "source": [
    "#index\n",
    "e=[1,3,4,6]"
   ]
  },
  {
   "cell_type": "code",
   "execution_count": 76,
   "id": "601e376b",
   "metadata": {},
   "outputs": [
    {
     "data": {
      "text/plain": [
       "[1, 3, 4, 6]"
      ]
     },
     "execution_count": 76,
     "metadata": {},
     "output_type": "execute_result"
    }
   ],
   "source": [
    "e"
   ]
  },
  {
   "cell_type": "code",
   "execution_count": 77,
   "id": "a89f2354",
   "metadata": {},
   "outputs": [
    {
     "data": {
      "text/plain": [
       "2"
      ]
     },
     "execution_count": 77,
     "metadata": {},
     "output_type": "execute_result"
    }
   ],
   "source": [
    "e.index(4)"
   ]
  },
  {
   "cell_type": "code",
   "execution_count": 78,
   "id": "b6afb694",
   "metadata": {},
   "outputs": [],
   "source": [
    "a=[1,2,3,4,'a','r','e']"
   ]
  },
  {
   "cell_type": "code",
   "execution_count": 79,
   "id": "6dc89030",
   "metadata": {},
   "outputs": [
    {
     "data": {
      "text/plain": [
       "[1, 2, 3, 4, 'a', 'r', 'e']"
      ]
     },
     "execution_count": 79,
     "metadata": {},
     "output_type": "execute_result"
    }
   ],
   "source": [
    "a"
   ]
  },
  {
   "cell_type": "code",
   "execution_count": 81,
   "id": "f3d15196",
   "metadata": {},
   "outputs": [
    {
     "data": {
      "text/plain": [
       "5"
      ]
     },
     "execution_count": 81,
     "metadata": {},
     "output_type": "execute_result"
    }
   ],
   "source": [
    "a.index('r')"
   ]
  },
  {
   "cell_type": "code",
   "execution_count": 83,
   "id": "1f8691ff",
   "metadata": {},
   "outputs": [
    {
     "data": {
      "text/plain": [
       "[1, 2, 3, 4, 'a', 'r', 'e']"
      ]
     },
     "execution_count": 83,
     "metadata": {},
     "output_type": "execute_result"
    }
   ],
   "source": [
    "#copy\n",
    "a.copy()"
   ]
  },
  {
   "cell_type": "code",
   "execution_count": 84,
   "id": "d4e7a7e6",
   "metadata": {},
   "outputs": [],
   "source": [
    "v=a"
   ]
  },
  {
   "cell_type": "code",
   "execution_count": 85,
   "id": "13924da3",
   "metadata": {},
   "outputs": [
    {
     "data": {
      "text/plain": [
       "[1, 2, 3, 4, 'a', 'r', 'e']"
      ]
     },
     "execution_count": 85,
     "metadata": {},
     "output_type": "execute_result"
    }
   ],
   "source": [
    "v"
   ]
  },
  {
   "cell_type": "code",
   "execution_count": 86,
   "id": "adfc8a43",
   "metadata": {},
   "outputs": [],
   "source": [
    "v.append('f')"
   ]
  },
  {
   "cell_type": "code",
   "execution_count": 87,
   "id": "3f283876",
   "metadata": {},
   "outputs": [
    {
     "data": {
      "text/plain": [
       "[1, 2, 3, 4, 'a', 'r', 'e', 'f']"
      ]
     },
     "execution_count": 87,
     "metadata": {},
     "output_type": "execute_result"
    }
   ],
   "source": [
    "v"
   ]
  },
  {
   "cell_type": "code",
   "execution_count": 88,
   "id": "5d9a22a1",
   "metadata": {},
   "outputs": [],
   "source": [
    "v.append('g')"
   ]
  },
  {
   "cell_type": "code",
   "execution_count": 89,
   "id": "2aaf5efd",
   "metadata": {},
   "outputs": [
    {
     "data": {
      "text/plain": [
       "[1, 2, 3, 4, 'a', 'r', 'e', 'f', 'g']"
      ]
     },
     "execution_count": 89,
     "metadata": {},
     "output_type": "execute_result"
    }
   ],
   "source": [
    "v"
   ]
  },
  {
   "cell_type": "code",
   "execution_count": 90,
   "id": "bfe4e475",
   "metadata": {},
   "outputs": [],
   "source": [
    "v=a"
   ]
  },
  {
   "cell_type": "code",
   "execution_count": 91,
   "id": "ccb1ac13",
   "metadata": {},
   "outputs": [
    {
     "data": {
      "text/plain": [
       "[1, 2, 3, 4, 'a', 'r', 'e', 'f', 'g']"
      ]
     },
     "execution_count": 91,
     "metadata": {},
     "output_type": "execute_result"
    }
   ],
   "source": [
    "a"
   ]
  },
  {
   "cell_type": "code",
   "execution_count": 92,
   "id": "e2ddec1b",
   "metadata": {},
   "outputs": [],
   "source": [
    "a=[123]"
   ]
  },
  {
   "cell_type": "code",
   "execution_count": 93,
   "id": "4457db9b",
   "metadata": {},
   "outputs": [
    {
     "data": {
      "text/plain": [
       "[123]"
      ]
     },
     "execution_count": 93,
     "metadata": {},
     "output_type": "execute_result"
    }
   ],
   "source": [
    "a"
   ]
  },
  {
   "cell_type": "code",
   "execution_count": 95,
   "id": "ef96f7cf",
   "metadata": {},
   "outputs": [],
   "source": [
    "b=a"
   ]
  },
  {
   "cell_type": "code",
   "execution_count": 96,
   "id": "e99d77b4",
   "metadata": {},
   "outputs": [
    {
     "data": {
      "text/plain": [
       "[123]"
      ]
     },
     "execution_count": 96,
     "metadata": {},
     "output_type": "execute_result"
    }
   ],
   "source": [
    "b"
   ]
  },
  {
   "cell_type": "code",
   "execution_count": 97,
   "id": "95c333fc",
   "metadata": {},
   "outputs": [
    {
     "data": {
      "text/plain": [
       "1480231125568"
      ]
     },
     "execution_count": 97,
     "metadata": {},
     "output_type": "execute_result"
    }
   ],
   "source": [
    "id(a)"
   ]
  },
  {
   "cell_type": "code",
   "execution_count": 98,
   "id": "bc9579e6",
   "metadata": {},
   "outputs": [
    {
     "data": {
      "text/plain": [
       "1480231125568"
      ]
     },
     "execution_count": 98,
     "metadata": {},
     "output_type": "execute_result"
    }
   ],
   "source": [
    "id(b)"
   ]
  },
  {
   "cell_type": "code",
   "execution_count": 99,
   "id": "267dac66",
   "metadata": {},
   "outputs": [],
   "source": [
    "b=a.copy()"
   ]
  },
  {
   "cell_type": "code",
   "execution_count": 100,
   "id": "aafaca27",
   "metadata": {},
   "outputs": [
    {
     "data": {
      "text/plain": [
       "[123]"
      ]
     },
     "execution_count": 100,
     "metadata": {},
     "output_type": "execute_result"
    }
   ],
   "source": [
    "a"
   ]
  },
  {
   "cell_type": "code",
   "execution_count": 103,
   "id": "fe225d77",
   "metadata": {},
   "outputs": [],
   "source": [
    "a.append(200)"
   ]
  },
  {
   "cell_type": "code",
   "execution_count": 104,
   "id": "f92ac8af",
   "metadata": {},
   "outputs": [
    {
     "data": {
      "text/plain": [
       "[123, 200]"
      ]
     },
     "execution_count": 104,
     "metadata": {},
     "output_type": "execute_result"
    }
   ],
   "source": [
    "a"
   ]
  },
  {
   "cell_type": "code",
   "execution_count": 105,
   "id": "c5ccbddf",
   "metadata": {},
   "outputs": [],
   "source": [
    "a.append('meme')"
   ]
  },
  {
   "cell_type": "code",
   "execution_count": 106,
   "id": "06e48952",
   "metadata": {},
   "outputs": [
    {
     "data": {
      "text/plain": [
       "[123, 200, 'meme']"
      ]
     },
     "execution_count": 106,
     "metadata": {},
     "output_type": "execute_result"
    }
   ],
   "source": [
    "a"
   ]
  },
  {
   "cell_type": "code",
   "execution_count": 108,
   "id": "1a11b59e",
   "metadata": {},
   "outputs": [
    {
     "data": {
      "text/plain": [
       "[123, 200]"
      ]
     },
     "execution_count": 108,
     "metadata": {},
     "output_type": "execute_result"
    }
   ],
   "source": [
    "b"
   ]
  },
  {
   "cell_type": "code",
   "execution_count": 109,
   "id": "bb0d907f",
   "metadata": {},
   "outputs": [],
   "source": [
    "a=[1,34,6,8,5,5,4,32,1]"
   ]
  },
  {
   "cell_type": "code",
   "execution_count": 110,
   "id": "da94467d",
   "metadata": {},
   "outputs": [
    {
     "data": {
      "text/plain": [
       "2"
      ]
     },
     "execution_count": 110,
     "metadata": {},
     "output_type": "execute_result"
    }
   ],
   "source": [
    "a.count(5)"
   ]
  },
  {
   "cell_type": "code",
   "execution_count": 111,
   "id": "8dc29eaa",
   "metadata": {},
   "outputs": [],
   "source": [
    "a=['vamshi','yashwanth']"
   ]
  },
  {
   "cell_type": "code",
   "execution_count": 112,
   "id": "c2120ad9",
   "metadata": {},
   "outputs": [],
   "source": [
    "a.append('sai teja')"
   ]
  },
  {
   "cell_type": "code",
   "execution_count": 113,
   "id": "f4d83fd0",
   "metadata": {},
   "outputs": [
    {
     "data": {
      "text/plain": [
       "['vamshi', 'yashwanth', 'sai teja']"
      ]
     },
     "execution_count": 113,
     "metadata": {},
     "output_type": "execute_result"
    }
   ],
   "source": [
    "a"
   ]
  },
  {
   "cell_type": "code",
   "execution_count": 114,
   "id": "5171e568",
   "metadata": {},
   "outputs": [
    {
     "data": {
      "text/plain": [
       "0"
      ]
     },
     "execution_count": 114,
     "metadata": {},
     "output_type": "execute_result"
    }
   ],
   "source": [
    "a=['y','a','s',]"
   ]
  },
  {
   "cell_type": "code",
   "execution_count": 1,
   "id": "9c5fbcee",
   "metadata": {},
   "outputs": [
    {
     "data": {
      "text/plain": [
       "'j'"
      ]
     },
     "execution_count": 1,
     "metadata": {},
     "output_type": "execute_result"
    }
   ],
   "source": [
    "#which is depends upon the ascii value \n",
    "max(['1','e','3','j'])"
   ]
  },
  {
   "cell_type": "code",
   "execution_count": 2,
   "id": "9ba93c03",
   "metadata": {},
   "outputs": [
    {
     "data": {
      "text/plain": [
       "'gun'"
      ]
     },
     "execution_count": 2,
     "metadata": {},
     "output_type": "execute_result"
    }
   ],
   "source": [
    "max(['3','6','gun','get'])"
   ]
  },
  {
   "cell_type": "code",
   "execution_count": 3,
   "id": "9a3e9e37",
   "metadata": {},
   "outputs": [
    {
     "data": {
      "text/plain": [
       "8"
      ]
     },
     "execution_count": 3,
     "metadata": {},
     "output_type": "execute_result"
    }
   ],
   "source": [
    "max([2,4,7,8])"
   ]
  },
  {
   "cell_type": "code",
   "execution_count": 4,
   "id": "0cca18bc",
   "metadata": {},
   "outputs": [
    {
     "data": {
      "text/plain": [
       "1"
      ]
     },
     "execution_count": 4,
     "metadata": {},
     "output_type": "execute_result"
    }
   ],
   "source": [
    "min([1,4,6,7,8])"
   ]
  },
  {
   "cell_type": "code",
   "execution_count": 5,
   "id": "8dc9af75",
   "metadata": {},
   "outputs": [
    {
     "data": {
      "text/plain": [
       "'2'"
      ]
     },
     "execution_count": 5,
     "metadata": {},
     "output_type": "execute_result"
    }
   ],
   "source": [
    "min(['a','2','y','j'])"
   ]
  },
  {
   "cell_type": "code",
   "execution_count": 6,
   "id": "b5c9a951",
   "metadata": {},
   "outputs": [
    {
     "data": {
      "text/plain": [
       "'1'"
      ]
     },
     "execution_count": 6,
     "metadata": {},
     "output_type": "execute_result"
    }
   ],
   "source": [
    "min(['1','yash','j'])"
   ]
  },
  {
   "cell_type": "code",
   "execution_count": 7,
   "id": "c389bf75",
   "metadata": {},
   "outputs": [
    {
     "ename": "TypeError",
     "evalue": "'<' not supported between instances of 'str' and 'int'",
     "output_type": "error",
     "traceback": [
      "\u001b[1;31m---------------------------------------------------------------------------\u001b[0m",
      "\u001b[1;31mTypeError\u001b[0m                                 Traceback (most recent call last)",
      "Input \u001b[1;32mIn [7]\u001b[0m, in \u001b[0;36m<cell line: 1>\u001b[1;34m()\u001b[0m\n\u001b[1;32m----> 1\u001b[0m \u001b[38;5;28;43mmin\u001b[39;49m\u001b[43m(\u001b[49m\u001b[43m[\u001b[49m\u001b[38;5;241;43m1\u001b[39;49m\u001b[43m,\u001b[49m\u001b[38;5;241;43m2\u001b[39;49m\u001b[43m,\u001b[49m\u001b[38;5;241;43m3\u001b[39;49m\u001b[43m,\u001b[49m\u001b[38;5;124;43m'\u001b[39;49m\u001b[38;5;124;43mmeme\u001b[39;49m\u001b[38;5;124;43m'\u001b[39;49m\u001b[43m]\u001b[49m\u001b[43m)\u001b[49m\n",
      "\u001b[1;31mTypeError\u001b[0m: '<' not supported between instances of 'str' and 'int'"
     ]
    }
   ],
   "source": [
    "#because they have different data types\n",
    "min([1,2,3,'meme'])"
   ]
  },
  {
   "cell_type": "code",
   "execution_count": 8,
   "id": "829ef0cc",
   "metadata": {},
   "outputs": [
    {
     "data": {
      "text/plain": [
       "6"
      ]
     },
     "execution_count": 8,
     "metadata": {},
     "output_type": "execute_result"
    }
   ],
   "source": [
    "len([1,3,4,55,6,67])"
   ]
  },
  {
   "cell_type": "code",
   "execution_count": 9,
   "id": "2fbc478a",
   "metadata": {},
   "outputs": [],
   "source": [
    "a=(['yashwanth','sanjeevani'])"
   ]
  },
  {
   "cell_type": "code",
   "execution_count": 10,
   "id": "9620d7ee",
   "metadata": {},
   "outputs": [
    {
     "data": {
      "text/plain": [
       "2"
      ]
     },
     "execution_count": 10,
     "metadata": {},
     "output_type": "execute_result"
    }
   ],
   "source": [
    "len(a)"
   ]
  },
  {
   "cell_type": "code",
   "execution_count": 12,
   "id": "077bcaf5",
   "metadata": {},
   "outputs": [],
   "source": [
    "a=(['a','c','e','h'])"
   ]
  },
  {
   "cell_type": "code",
   "execution_count": null,
   "id": "ce2d99ca",
   "metadata": {},
   "outputs": [],
   "source": []
  }
 ],
 "metadata": {
  "kernelspec": {
   "display_name": "Python 3 (ipykernel)",
   "language": "python",
   "name": "python3"
  },
  "language_info": {
   "codemirror_mode": {
    "name": "ipython",
    "version": 3
   },
   "file_extension": ".py",
   "mimetype": "text/x-python",
   "name": "python",
   "nbconvert_exporter": "python",
   "pygments_lexer": "ipython3",
   "version": "3.9.12"
  }
 },
 "nbformat": 4,
 "nbformat_minor": 5
}
